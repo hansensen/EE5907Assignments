{
 "cells": [
  {
   "cell_type": "code",
   "execution_count": 1,
   "metadata": {},
   "outputs": [],
   "source": [
    "import scipy.io as sio\n",
    "import numpy as np\n",
    "from sklearn import preprocessing\n",
    "import DataLoader as dl\n",
    "import math\n",
    "import matplotlib.pyplot as plot\n",
    "\n",
    "# Binarization preprocessing\n",
    "def binarization(a):\n",
    "\tbinarizer = preprocessing.Binarizer().fit(a)\n",
    "\treturn binarizer.transform(a)\n",
    "\n",
    "# Compute Maximum Likelihood Estimation of lambda\n",
    "def getLambdaML(data):\n",
    "\ta = np.array(data)\n",
    "\tunique, counts = np.unique(a, return_counts=True)\n",
    "\tlabels = dict(zip(unique, counts))\n",
    "\t# ML Estimate of lambda = N1/N\n",
    "\tlambdaMl = labels[1]/(labels[0]+labels[1])\n",
    "\treturn lambdaMl, labels[0], labels[1]+labels[0]\n",
    "\n",
    "def getNbClassifier(xtrain, ytrain):\n",
    "\t# lambdaMl = getLambdaML(ytrain)\n",
    "\t# Separate xtrain by class/label\n",
    "\tspam = []\n",
    "\tnonspam = []\n",
    "\tfor i in range(len(xtrain)):\n",
    "\t\tvector = xtrain[i]\n",
    "\t\tif ytrain[i] == 0:\n",
    "\t\t\tnonspam.append(vector)\n",
    "\t\telse:\n",
    "\t\t\tspam.append(vector)\n",
    "\tspam = np.array(spam).astype(int)\n",
    "\tnonspam = np.array(nonspam).astype(int)\n",
    "\t# calculate Xcj matrix\n",
    "\tnumFeatures = spam.shape[1]\n",
    "\tprint('Feauture Number: ', numFeatures)\n",
    "\tx = np.zeros((2, numFeatures)).astype(int)\n",
    "\tx[1] = np.sum(spam, axis=0)\n",
    "\tx[0] = np.sum(nonspam, axis=0)\n",
    "\tprint(x[0])\n",
    "\tprint(x[1])\n",
    "\treturn x\n",
    "\n",
    "def getPredictions(classifier, xtest):\n",
    "\treturn"
   ]
  },
  {
   "cell_type": "code",
   "execution_count": 2,
   "metadata": {
    "scrolled": false
   },
   "outputs": [],
   "source": [
    "# Load data from spamData.mat\n",
    "xtrain, ytrain, xtest, ytest = dl.loadData('spamData.mat')\n",
    "xtrain = binarization(xtrain)\n",
    "xtest = binarization(xtest)"
   ]
  },
  {
   "cell_type": "code",
   "execution_count": 3,
   "metadata": {
    "scrolled": false
   },
   "outputs": [
    {
     "name": "stdout",
     "output_type": "stream",
     "text": [
      "Feauture Number:  57\n",
      "[ 260  176  497    6  394  218   29  140  135  319   96  776  203   82\n",
      "   33  172  168  227 1037   29  617    9   52   35  672  508  499  274\n",
      "  227  280  176  127  229  128  267  309  471   34  210  155   94  204\n",
      "  182  166  526  287   26  122  337 1000  249  479  184  146 1825 1825\n",
      " 1825]\n",
      "[ 431  433  760   25  783  457  523  444  394  582  391  785  357  151\n",
      "  202  692  489  476 1102  274 1006   57  416  461   38   18    7   19\n",
      "    8    9    3    2   48    7   37   81   72   23   51  144    1   12\n",
      "   58   28  321   54   12   11  191  801   88 1033  761  358 1240 1240\n",
      " 1240]\n"
     ]
    }
   ],
   "source": [
    "# Get classifier\n",
    "naiveBayesClassifier = getNbClassifier(xtrain, ytrain)"
   ]
  },
  {
   "cell_type": "code",
   "execution_count": 4,
   "metadata": {
    "scrolled": true
   },
   "outputs": [],
   "source": [
    "# Get Maximum Likelihood Estimation of lambda\n",
    "lambdaMl, N1, N = getLambdaML(ytrain)"
   ]
  },
  {
   "cell_type": "code",
   "execution_count": 5,
   "metadata": {
    "scrolled": false
   },
   "outputs": [],
   "source": [
    "# Create an array of alpha values, from 0 to 100 with step size 0.5\n",
    "alphaStart = 0\n",
    "alphaEnd = 100\n",
    "alphaStepSize = 0.5\n",
    "alphaArr = np.arange(alphaStart, alphaEnd + alphaStepSize, alphaStepSize)"
   ]
  },
  {
   "cell_type": "code",
   "execution_count": 6,
   "metadata": {},
   "outputs": [],
   "source": [
    "# Initialise an array of error rate\n",
    "errRate = np.zeros(alphaArr.shape[0])"
   ]
  },
  {
   "cell_type": "code",
   "execution_count": 7,
   "metadata": {
    "scrolled": true
   },
   "outputs": [],
   "source": [
    "def calcPosteriorProdictiveDist(alpha, naiveBayesClassifier, lambdaMl, featureVector):\n",
    "\t# Initialise\n",
    "\tlambdaMlArr = np.array([1 - lambdaMl, lambdaMl])\n",
    "\tlogP_yTilde = np.log(lambdaMlArr)\n",
    "\t#print('lambdaMlArr ',logP_yTilde)\n",
    "    \n",
    "\t#print('featureVector ', featureVector)\n",
    "\t#print('p(y=0):')\n",
    "\n",
    "\t# Calculate  logP(yTilde = 0 | xTilde, D)\n",
    "\tfor i in range(featureVector.shape[0]):\n",
    "\t\tfeature = featureVector[i]\n",
    "\t\tif (feature):\n",
    "\t\t\tn1 = naiveBayesClassifier[0][i]\n",
    "\t\telse:\n",
    "\t\t\tn1 = N1 - naiveBayesClassifier[0][i]\n",
    "\t\tprior = (n1 + alpha)/(N1 + 2* alpha)\n",
    "\t\t#print('n1: ', n1, 'N: ', N1)\n",
    "\t\t#print('prior: ', prior)\n",
    "\t\tif prior == 0:\n",
    "\t\t\tprior = 0.00000001\n",
    "\t\t#print('logP_yTilde', logP_yTilde[0])\n",
    "\t\tlogP_yTilde[0] += math.log(prior)\n",
    "        \n",
    "\t#print('p(y=1):')\n",
    "\t# Calculate  logP(yTilde = 1 | xTilde, D)\n",
    "\tfor i in range(featureVector.shape[0]):\n",
    "\t\tfeature = featureVector[i]\n",
    "\t\tif (feature):\n",
    "\t\t\tn1 = naiveBayesClassifier[1][i]\n",
    "\t\telse:\n",
    "\t\t\tn1 = N - N1 - naiveBayesClassifier[1][i]\n",
    "\t\t#print('n1: ', n1, 'N: ', N - N1)\n",
    "\t\tprior = (n1 + alpha)/((N - N1) + 2* alpha)\n",
    "\t\t#print('prior: ', prior)\n",
    "\t\tif prior == 0:\n",
    "\t\t\tprior = 0.00000001\n",
    "\t\tlogP_yTilde[1] += math.log(prior)\n",
    "\t#print('logP_yTilde_0',logP_yTilde[0])\n",
    "\t#print('logP_yTilde_1',logP_yTilde[1])\n",
    "\tif logP_yTilde[0] > logP_yTilde[1]:\n",
    "\t\treturn 0\n",
    "\telse:\n",
    "\t\treturn 1\n",
    "    "
   ]
  },
  {
   "cell_type": "code",
   "execution_count": null,
   "metadata": {
    "scrolled": true
   },
   "outputs": [
    {
     "name": "stdout",
     "output_type": "stream",
     "text": [
      "alpha:  0.0\n",
      "0.12044270833333333\n",
      "alpha:  0.5\n",
      "0.12174479166666667\n",
      "alpha:  1.0\n",
      "0.12369791666666667\n",
      "alpha:  1.5\n",
      "0.12434895833333333\n",
      "alpha:  2.0\n",
      "0.125\n",
      "alpha:  2.5\n",
      "0.12565104166666666\n",
      "alpha:  3.0\n",
      "0.12565104166666666\n",
      "alpha:  3.5\n",
      "0.126953125\n",
      "alpha:  4.0\n",
      "0.12630208333333334\n",
      "alpha:  4.5\n",
      "0.12630208333333334\n",
      "alpha:  5.0\n",
      "0.126953125\n",
      "alpha:  5.5\n",
      "0.12565104166666666\n",
      "alpha:  6.0\n",
      "0.12565104166666666\n",
      "alpha:  6.5\n",
      "0.12565104166666666\n",
      "alpha:  7.0\n",
      "0.12565104166666666\n",
      "alpha:  7.5\n",
      "0.12565104166666666\n",
      "alpha:  8.0\n",
      "0.12565104166666666\n",
      "alpha:  8.5\n",
      "0.12565104166666666\n",
      "alpha:  9.0\n",
      "0.126953125\n",
      "alpha:  9.5\n",
      "0.126953125\n",
      "alpha:  10.0\n",
      "0.126953125\n",
      "alpha:  10.5\n",
      "0.12760416666666666\n",
      "alpha:  11.0\n",
      "0.12760416666666666\n",
      "alpha:  11.5\n",
      "0.12760416666666666\n",
      "alpha:  12.0\n"
     ]
    }
   ],
   "source": [
    "for j in range(alphaArr.shape[0]):\n",
    "\talpha = alphaArr[j]\n",
    "\tprint('alpha: ', alpha)\n",
    "\tpredictedRes = np.zeros(xtest.shape[0])\n",
    "\tfor i in range(xtest.shape[0]):\n",
    "\t\tfeatureVector = xtest[i]\n",
    "\t\tpredictedRes[i] = calcPosteriorProdictiveDist(alpha, naiveBayesClassifier, lambdaMl, featureVector)\n",
    "\t\t#print('predicted: ', predictedRes[i])\n",
    "\tpredictedRes = predictedRes.astype(int)\n",
    "\tytest = ytest.flatten().astype(int)\n",
    "\terrRate[j] = np.mean( predictedRes != ytest )\n",
    "\tprint(errRate[j])"
   ]
  },
  {
   "cell_type": "code",
   "execution_count": null,
   "metadata": {
    "scrolled": true
   },
   "outputs": [],
   "source": [
    "# Plot graph: alpha vs error rate\n",
    "plot.figure()\n",
    "plot.plot(alphaArr, errRate)\n",
    "plot.title('Q1: Beta-binomial Naive Bayes')\n",
    "plot.xlabel('alpha')\n",
    "plot.ylabel('error rate')\n",
    "plot.show()"
   ]
  }
 ],
 "metadata": {
  "anaconda-cloud": {},
  "kernelspec": {
   "display_name": "Python 3",
   "language": "python",
   "name": "python3"
  },
  "language_info": {
   "codemirror_mode": {
    "name": "ipython",
    "version": 3
   },
   "file_extension": ".py",
   "mimetype": "text/x-python",
   "name": "python",
   "nbconvert_exporter": "python",
   "pygments_lexer": "ipython3",
   "version": "3.7.3"
  }
 },
 "nbformat": 4,
 "nbformat_minor": 1
}

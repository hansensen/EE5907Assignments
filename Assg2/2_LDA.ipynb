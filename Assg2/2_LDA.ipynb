{
 "cells": [
  {
   "cell_type": "markdown",
   "metadata": {},
   "source": [
    "# LDA for Feature Extraction and Classification"
   ]
  },
  {
   "cell_type": "markdown",
   "metadata": {},
   "source": [
    "Apply LDA to reduce data dimensionality from to 2, 3 and 9. Visualize distribution of the sampled data (as in the PCA section) with dimensionality of 2 and 3 respectively (similar to PCA). Report the classification accuracy for data with dimensions of 2, 3 and 9 respectively, based on nearest neighbor classifier. Report the classification accuracy on the CMU PIE test images and your own photo seperately."
   ]
  },
  {
   "cell_type": "markdown",
   "metadata": {},
   "source": [
    "### Read all the images"
   ]
  },
  {
   "cell_type": "code",
   "execution_count": 1,
   "metadata": {},
   "outputs": [],
   "source": [
    "import numpy as np\n",
    "import os\n",
    "import matplotlib.pyplot as plt\n",
    "%matplotlib inline\n",
    "from mpl_toolkits import mplot3d"
   ]
  },
  {
   "cell_type": "code",
   "execution_count": 2,
   "metadata": {},
   "outputs": [],
   "source": [
    "def read_images():\n",
    "    dir='PIE'\n",
    "    PIE=os.listdir(dir)\n",
    "    all_img = []\n",
    "    img_folders=[dir+'/' + photo for photo in PIE]\n",
    "    selected_subjects = np.random.choice(range(len(img_folders)), 20, replace=False)\n",
    "    \n",
    "    selected_sub_folders = [img_folders[index] for index in selected_subjects]\n",
    "    print('Selected Subjects:')\n",
    "    print(selected_sub_folders)\n",
    "\n",
    "    for img_dir in selected_sub_folders:\n",
    "        img_path=os.listdir(img_dir)\n",
    "        img_dir_index=[img_dir+'/' + photo for photo in img_path]\n",
    "        all_img.append(img_dir_index)\n",
    "\n",
    "    flat_list = []\n",
    "    for sublist in all_img:\n",
    "        for item in sublist:\n",
    "            flat_list.append(item)\n",
    "    \n",
    "    images = np.array([plt.imread(image) for image in flat_list], dtype=np.int16)\n",
    "    labels = np.zeros((len(images)))\n",
    "\n",
    "    for i, path in enumerate(flat_list):\n",
    "        labels[i] = path.split('/')[1]\n",
    "    return images, labels"
   ]
  },
  {
   "cell_type": "code",
   "execution_count": 3,
   "metadata": {},
   "outputs": [
    {
     "name": "stdout",
     "output_type": "stream",
     "text": [
      "Selected Subjects:\n",
      "['PIE/40', 'PIE/17', 'PIE/41', 'PIE/63', 'PIE/13', 'PIE/51', 'PIE/52', 'PIE/45', 'PIE/15', 'PIE/65', 'PIE/44', 'PIE/25', 'PIE/61', 'PIE/36', 'PIE/24', 'PIE/2', 'PIE/49', 'PIE/29', 'PIE/14', 'PIE/8']\n"
     ]
    }
   ],
   "source": [
    "images, labels = read_images()\n",
    "n_samples, image_size, _ = images.shape\n",
    "n_features = image_size * image_size"
   ]
  },
  {
   "cell_type": "markdown",
   "metadata": {},
   "source": [
    "### Randomly select 500 images"
   ]
  },
  {
   "cell_type": "code",
   "execution_count": 4,
   "metadata": {},
   "outputs": [],
   "source": [
    "def select_images(images, labels, select_num):\n",
    "    num_images = len(images)\n",
    "    np.random.seed(99)\n",
    "    if select_num == len(images):\n",
    "        return images.reshape([select_num, n_features]), labels\n",
    "    rand_images_list = np.random.randint(0, num_images, select_num)\n",
    "    X = images[rand_images_list].reshape([select_num, n_features])\n",
    "    y = labels[rand_images_list]\n",
    "    return X, y"
   ]
  },
  {
   "cell_type": "code",
   "execution_count": 5,
   "metadata": {},
   "outputs": [],
   "source": [
    "X, y = select_images(images, labels, 500)"
   ]
  },
  {
   "cell_type": "markdown",
   "metadata": {},
   "source": [
    "### Read all the images"
   ]
  },
  {
   "cell_type": "code",
   "execution_count": 6,
   "metadata": {},
   "outputs": [],
   "source": [
    "import numpy as np\n",
    "import os\n",
    "import matplotlib.pyplot as plt\n",
    "%matplotlib inline\n",
    "from mpl_toolkits import mplot3d"
   ]
  },
  {
   "cell_type": "code",
   "execution_count": 7,
   "metadata": {},
   "outputs": [],
   "source": [
    "def read_images():\n",
    "    dir='PIE'\n",
    "    PIE=os.listdir(dir)\n",
    "    all_img = []\n",
    "    img_folders=[dir+'/' + photo for photo in PIE]\n",
    "    selected_subjects = np.random.randint(1,len(img_folders),20)\n",
    "    \n",
    "    selected_sub_folders = [img_folders[index] for index in selected_subjects]\n",
    "    print('Selected Subjects:')\n",
    "    print(selected_sub_folders)\n",
    "\n",
    "    for img_dir in selected_sub_folders:\n",
    "        img_path=os.listdir(img_dir)\n",
    "        img_dir_index=[img_dir+'/' + photo for photo in img_path]\n",
    "        all_img.append(img_dir_index)\n",
    "\n",
    "    flat_list = []\n",
    "    for sublist in all_img:\n",
    "        for item in sublist:\n",
    "            flat_list.append(item)\n",
    "    \n",
    "    images = np.array([plt.imread(image) for image in flat_list], dtype=np.int16)\n",
    "    labels = np.zeros((len(images)))\n",
    "\n",
    "    for i, path in enumerate(flat_list):\n",
    "        labels[i] = path.split('/')[1]\n",
    "    return images, labels"
   ]
  },
  {
   "cell_type": "code",
   "execution_count": 8,
   "metadata": {},
   "outputs": [
    {
     "name": "stdout",
     "output_type": "stream",
     "text": [
      "Selected Subjects:\n",
      "['PIE/17', 'PIE/44', 'PIE/38', 'PIE/12', 'PIE/5', 'PIE/29', 'PIE/32', 'PIE/62', 'PIE/48', 'PIE/52', 'PIE/17', 'PIE/3', 'PIE/43', 'PIE/19', 'PIE/13', 'PIE/40', 'PIE/32', 'PIE/32', 'PIE/52', 'PIE/29']\n"
     ]
    }
   ],
   "source": [
    "images, labels = read_images()\n",
    "n_samples, image_size, _ = images.shape\n",
    "n_features = image_size * image_size"
   ]
  },
  {
   "cell_type": "markdown",
   "metadata": {},
   "source": [
    "### Randomly select 500 images"
   ]
  },
  {
   "cell_type": "code",
   "execution_count": 9,
   "metadata": {},
   "outputs": [],
   "source": [
    "def select_images(images, labels, select_num):\n",
    "    num_images = len(images)\n",
    "    np.random.seed(99)\n",
    "    if select_num == len(images):\n",
    "        return images.reshape([select_num, n_features]), labels\n",
    "    rand_images_list = np.random.randint(0, num_images, select_num)\n",
    "    X = images[rand_images_list].reshape([select_num, n_features])\n",
    "    y = labels[rand_images_list]\n",
    "    return X, y"
   ]
  },
  {
   "cell_type": "markdown",
   "metadata": {},
   "source": [
    "### LDA"
   ]
  },
  {
   "cell_type": "code",
   "execution_count": 10,
   "metadata": {},
   "outputs": [],
   "source": [
    "def comp_mean_vectors(X, y):\n",
    "    class_labels = np.unique(y)\n",
    "    n_classes = class_labels.shape[0]\n",
    "    mean_vectors = []\n",
    "    for cl in class_labels:\n",
    "        mean_vectors.append(np.mean(X[y==cl], axis=0))\n",
    "    return mean_vectors"
   ]
  },
  {
   "cell_type": "code",
   "execution_count": 11,
   "metadata": {},
   "outputs": [],
   "source": [
    "def scatter_within(X, y):\n",
    "    class_labels = np.unique(y)\n",
    "    n_classes = class_labels.shape[0]\n",
    "    n_features = X.shape[1]\n",
    "    mean_vectors = comp_mean_vectors(X, y)\n",
    "    S_W = np.zeros((n_features, n_features))\n",
    "    for cl, mv in zip(class_labels, mean_vectors):\n",
    "        class_sc_mat = np.zeros((n_features, n_features))                 \n",
    "        for row in X[y == cl]:\n",
    "            row, mv = row.reshape(n_features, 1), mv.reshape(n_features, 1)\n",
    "            class_sc_mat += (row-mv).dot((row-mv).T)\n",
    "        S_W += class_sc_mat                           \n",
    "    return S_W"
   ]
  },
  {
   "cell_type": "code",
   "execution_count": 12,
   "metadata": {},
   "outputs": [],
   "source": [
    "def scatter_between(X, y):\n",
    "    overall_mean = np.mean(X, axis=0)\n",
    "    n_features = X.shape[1]\n",
    "    mean_vectors = comp_mean_vectors(X, y)    \n",
    "    S_B = np.zeros((n_features, n_features))\n",
    "    for i, mean_vec in enumerate(mean_vectors):  \n",
    "        n = X[y==i+1,:].shape[0]\n",
    "        mean_vec = mean_vec.reshape(n_features, 1)\n",
    "        overall_mean = overall_mean.reshape(n_features, 1)\n",
    "        S_B += n * (mean_vec - overall_mean).dot((mean_vec - overall_mean).T)\n",
    "    return S_B"
   ]
  },
  {
   "cell_type": "code",
   "execution_count": 13,
   "metadata": {},
   "outputs": [],
   "source": [
    "def get_components(eig_vals, eig_vecs, n_comp=2):\n",
    "    n_features = X.shape[1]\n",
    "    eig_pairs = [(np.abs(eig_vals[i]), eig_vecs[:,i]) for i in range(len(eig_vals))]\n",
    "    eig_pairs = sorted(eig_pairs, key=lambda k: k[0], reverse=True)\n",
    "    W = np.hstack([eig_pairs[i][1].reshape(1024, 1) for i in range(0, n_comp)])\n",
    "    return W"
   ]
  },
  {
   "cell_type": "markdown",
   "metadata": {},
   "source": [
    "### Visualize data distribution on 2D and 3D"
   ]
  },
  {
   "cell_type": "code",
   "execution_count": 14,
   "metadata": {},
   "outputs": [],
   "source": [
    "X, y = select_images(images, labels, n_samples)\n",
    "S_W, S_B = scatter_within(X, y), scatter_between(X, y)\n",
    "eig_vals, eig_vecs = np.linalg.eig(np.linalg.inv(S_W).dot(S_B))"
   ]
  },
  {
   "cell_type": "code",
   "execution_count": 15,
   "metadata": {},
   "outputs": [
    {
     "data": {
      "image/png": "[encoded data removed]",
      "text/plain": [
       "<Figure size 432x288 with 1 Axes>"
      ]
     },
     "metadata": {
      "needs_background": "light"
     },
     "output_type": "display_data"
    }
   ],
   "source": [
    "dimension = 2\n",
    "W = get_components(eig_vals, eig_vecs, n_comp=dimension)\n",
    "\n",
    "X_lda = X.dot(W).real\n",
    "plt.plot(X_lda[:,0], X_lda[:,1], 'o')\n",
    "plt.xlabel('x_values')\n",
    "plt.ylabel('y_values')\n",
    "plt.show()"
   ]
  },
  {
   "cell_type": "code",
   "execution_count": 16,
   "metadata": {},
   "outputs": [
    {
     "data": {
      "image/png": "[encoded data removed]",
      "text/plain": [
       "<Figure size 432x288 with 1 Axes>"
      ]
     },
     "metadata": {
      "needs_background": "light"
     },
     "output_type": "display_data"
    }
   ],
   "source": [
    "dimension = 3\n",
    "W = get_components(eig_vals, eig_vecs, n_comp=dimension)\n",
    "X_lda = X.dot(W).real\n",
    "\n",
    "ax = plt.axes(projection='3d')\n",
    "zdata = X_lda[:,0].real\n",
    "xdata = X_lda[:,1].real\n",
    "ydata = X_lda[:,2].real\n",
    "ax.scatter3D(xdata, ydata, zdata, c=zdata);"
   ]
  },
  {
   "cell_type": "markdown",
   "metadata": {},
   "source": [
    "### Classifying the test images using the rule of nearest neighbor"
   ]
  },
  {
   "cell_type": "code",
   "execution_count": 17,
   "metadata": {},
   "outputs": [],
   "source": [
    "from sklearn.model_selection import train_test_split\n",
    "from sklearn.neighbors import KNeighborsClassifier"
   ]
  },
  {
   "cell_type": "code",
   "execution_count": 18,
   "metadata": {},
   "outputs": [],
   "source": [
    "X, y = select_images(images, labels, n_samples)"
   ]
  },
  {
   "cell_type": "code",
   "execution_count": 19,
   "metadata": {},
   "outputs": [],
   "source": [
    "X_train, X_test, y_train, y_test = train_test_split(X, y, test_size=0.3)"
   ]
  },
  {
   "cell_type": "code",
   "execution_count": 20,
   "metadata": {},
   "outputs": [],
   "source": [
    "dimensions = [2,3,9]"
   ]
  },
  {
   "cell_type": "code",
   "execution_count": 21,
   "metadata": {},
   "outputs": [
    {
     "name": "stdout",
     "output_type": "stream",
     "text": [
      "0.6437684003925417\n",
      "0.7448478900883219\n",
      "0.8380765456329735\n"
     ]
    }
   ],
   "source": [
    "for dim in dimensions:\n",
    "    S_W, S_B = scatter_within(X_train, y_train), scatter_between(X_train, y_train)\n",
    "    eig_vals, eig_vecs = np.linalg.eig(np.linalg.inv(S_W).dot(S_B))\n",
    "    W = get_components(eig_vals, eig_vecs, n_comp=dim)\n",
    "    \n",
    "    X_lda_train = X_train.dot(W).real\n",
    "    X_lda_test = X_test.dot(W).real\n",
    "\n",
    "    # Create KNN classifier\n",
    "    knn = KNeighborsClassifier(n_neighbors = 1)\n",
    "    # Fit the classifier to the data\n",
    "    knn.fit(X_lda_train, y_train)\n",
    "    y_pred = knn.predict(X_lda_test)\n",
    "    score = knn.score(X_lda_test, y_test)\n",
    "    print(score)"
   ]
  },
  {
   "cell_type": "code",
   "execution_count": null,
   "metadata": {},
   "outputs": [],
   "source": []
  },
  {
   "cell_type": "code",
   "execution_count": null,
   "metadata": {},
   "outputs": [],
   "source": []
  }
 ],
 "metadata": {
  "kernelspec": {
   "display_name": "Python 3",
   "language": "python",
   "name": "python3"
  },
  "language_info": {
   "codemirror_mode": {
    "name": "ipython",
    "version": 3
   },
   "file_extension": ".py",
   "mimetype": "text/x-python",
   "name": "python",
   "nbconvert_exporter": "python",
   "pygments_lexer": "ipython3",
   "version": "3.7.4"
  }
 },
 "nbformat": 4,
 "nbformat_minor": 4
}

{
 "cells": [
  {
   "cell_type": "markdown",
   "metadata": {},
   "source": [
    "# Image Processing"
   ]
  },
  {
   "cell_type": "markdown",
   "metadata": {},
   "source": [
    "This script processes the images inside `./my_raw_images` by converting to grayscale and resize them to 32 * 32 images.\n",
    "The output images are in `./my_images` and are named in order."
   ]
  },
  {
   "cell_type": "code",
   "execution_count": 1,
   "metadata": {},
   "outputs": [],
   "source": [
    "import numpy as np\n",
    "import os\n",
    "import matplotlib.pyplot as plt\n",
    "%matplotlib inline\n",
    "from mpl_toolkits import mplot3d\n",
    "import cv2"
   ]
  },
  {
   "cell_type": "code",
   "execution_count": 2,
   "metadata": {},
   "outputs": [],
   "source": [
    "img_dir = 'my_raw_images'\n",
    "img_path=os.listdir(img_dir)\n",
    "img_dir_index=[img_dir+'/' + photo for photo in img_path]"
   ]
  },
  {
   "cell_type": "code",
   "execution_count": 3,
   "metadata": {},
   "outputs": [
    {
     "data": {
      "text/plain": [
       "['my_raw_images/IMG_5721.jpg',\n",
       " 'my_raw_images/IMG_5720.jpg',\n",
       " 'my_raw_images/IMG_5722.jpg',\n",
       " 'my_raw_images/IMG_5723.jpg',\n",
       " 'my_raw_images/IMG_5727.jpg',\n",
       " 'my_raw_images/IMG_5726.jpg',\n",
       " 'my_raw_images/IMG_5724.jpg',\n",
       " 'my_raw_images/IMG_5718.jpg',\n",
       " 'my_raw_images/IMG_5725.jpg',\n",
       " 'my_raw_images/IMG_5729.jpg']"
      ]
     },
     "execution_count": 3,
     "metadata": {},
     "output_type": "execute_result"
    }
   ],
   "source": [
    "img_dir_index"
   ]
  },
  {
   "cell_type": "code",
   "execution_count": 4,
   "metadata": {},
   "outputs": [],
   "source": [
    "import os\n",
    "if not os.path.exists('my_images'):\n",
    "    os.makedirs('my_images')"
   ]
  },
  {
   "cell_type": "code",
   "execution_count": 5,
   "metadata": {},
   "outputs": [],
   "source": [
    "for i, img_path in enumerate(img_dir_index):\n",
    "    image = cv2.imread(img_path, 0)\n",
    "    resized_img = cv2.resize(image, (32, 32))\n",
    "    # Save new image\n",
    "    cv2.imwrite('my_images/' + str(i)+'.jpg', resized_img)"
   ]
  },
  {
   "cell_type": "code",
   "execution_count": null,
   "metadata": {},
   "outputs": [],
   "source": []
  }
 ],
 "metadata": {
  "kernelspec": {
   "display_name": "Python 3",
   "language": "python",
   "name": "python3"
  },
  "language_info": {
   "codemirror_mode": {
    "name": "ipython",
    "version": 3
   },
   "file_extension": ".py",
   "mimetype": "text/x-python",
   "name": "python",
   "nbconvert_exporter": "python",
   "pygments_lexer": "ipython3",
   "version": "3.6.6"
  }
 },
 "nbformat": 4,
 "nbformat_minor": 4
}

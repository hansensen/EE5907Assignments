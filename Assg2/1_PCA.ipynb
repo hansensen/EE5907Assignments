{
 "cells": [
  {
   "cell_type": "markdown",
   "metadata": {},
   "source": [
    "### Read all the images"
   ]
  },
  {
   "cell_type": "code",
   "execution_count": null,
   "metadata": {},
   "outputs": [],
   "source": [
    "import numpy as np\n",
    "import os\n",
    "import matplotlib.pyplot as plt\n",
    "%matplotlib inline\n",
    "from mpl_toolkits import mplot3d"
   ]
  },
  {
   "cell_type": "code",
   "execution_count": null,
   "metadata": {},
   "outputs": [],
   "source": [
    "def read_images():\n",
    "    dir='PIE'\n",
    "    PIE=os.listdir(dir)\n",
    "    all_img = []\n",
    "\n",
    "    img_folders=[dir+'/' + photo for photo in PIE]\n",
    "\n",
    "    for img_dir in img_folders:\n",
    "        img_path=os.listdir(img_dir)\n",
    "        img_dir_index=[img_dir+'/' + photo for photo in img_path]\n",
    "        all_img.append(img_dir_index)\n",
    "\n",
    "    flat_list = []\n",
    "    for sublist in all_img:\n",
    "        for item in sublist:\n",
    "            flat_list.append(item)\n",
    "    \n",
    "    images = np.array([plt.imread(image) for image in flat_list], dtype=np.int16)\n",
    "    labels = np.zeros((len(images)))\n",
    "            \n",
    "    for i, path in enumerate(flat_list):\n",
    "        labels[i] = path.split('/')[1]\n",
    "    return images, labels"
   ]
  },
  {
   "cell_type": "code",
   "execution_count": null,
   "metadata": {},
   "outputs": [],
   "source": [
    "images, labels = read_images()\n",
    "n_samples, image_size, _ = images.shape"
   ]
  },
  {
   "cell_type": "markdown",
   "metadata": {},
   "source": [
    "### Randomly select 500 images"
   ]
  },
  {
   "cell_type": "code",
   "execution_count": null,
   "metadata": {},
   "outputs": [],
   "source": [
    "def select_images(images, labels, select_num):\n",
    "    num_images = len(images)\n",
    "    np.random.seed(99)\n",
    "    rand_images_list = np.random.randint(0, num_images, select_num)\n",
    "    X = images[rand_images_list].reshape([select_num, image_size*image_size])\n",
    "    y = labels[rand_images_list]\n",
    "    return X, y"
   ]
  },
  {
   "cell_type": "code",
   "execution_count": null,
   "metadata": {},
   "outputs": [],
   "source": [
    "X, y = select_images(images, labels, 500)"
   ]
  },
  {
   "cell_type": "markdown",
   "metadata": {},
   "source": [
    "### PCA"
   ]
  },
  {
   "cell_type": "code",
   "execution_count": null,
   "metadata": {},
   "outputs": [],
   "source": [
    "def PCA(X):\n",
    "    mean_data = np.mean(X,axis=0)\n",
    "    centred_data = X - mean_data\n",
    "    cov_matrix = np.cov(centred_data.T)\n",
    "    [eig_val,eig_vec] = np.linalg.eig(cov_matrix)\n",
    "    projected = np.dot(eig_vec, centred_data.T)\n",
    "    return eig_val, eig_vec, projected, centred_data"
   ]
  },
  {
   "cell_type": "code",
   "execution_count": null,
   "metadata": {},
   "outputs": [],
   "source": [
    "eig_val, eig_vec, projected, centred_data = PCA(X)"
   ]
  },
  {
   "cell_type": "markdown",
   "metadata": {},
   "source": [
    "### Eigenfaces"
   ]
  },
  {
   "cell_type": "code",
   "execution_count": null,
   "metadata": {},
   "outputs": [],
   "source": [
    "def get_eigenface(eig_vec, i):\n",
    "    return eig_vec[:,i].real.reshape([image_size,image_size])"
   ]
  },
  {
   "cell_type": "code",
   "execution_count": null,
   "metadata": {},
   "outputs": [],
   "source": [
    "num_eig_faces = 6\n",
    "fig=plt.figure(figsize=(10, 10))\n",
    "for i in range(num_eig_faces):\n",
    "    eig_face = get_eigenface(eig_vec, i)\n",
    "    ax = fig.add_subplot(1, num_eig_faces, i+1)\n",
    "    ax.title.set_text('Eigenface '+str(i))\n",
    "    plt.imshow(eig_face,cmap='gray')\n",
    "plt.show()"
   ]
  },
  {
   "cell_type": "markdown",
   "metadata": {},
   "source": [
    "### Visualise 2D and 3D"
   ]
  },
  {
   "cell_type": "code",
   "execution_count": null,
   "metadata": {},
   "outputs": [],
   "source": [
    "sorted_eig_index = np.argsort(eig_val)[::-1]"
   ]
  },
  {
   "cell_type": "code",
   "execution_count": null,
   "metadata": {},
   "outputs": [],
   "source": [
    "pca_2d_vec = eig_vec[:,sorted_eig_index[0:2]]\n",
    "pca_3d_vec = eig_vec[:,sorted_eig_index[0:3]]"
   ]
  },
  {
   "cell_type": "code",
   "execution_count": null,
   "metadata": {},
   "outputs": [],
   "source": [
    "pca_2d = np.dot(X, pca_2d_vec)\n",
    "pca_3d = np.dot(X, pca_3d_vec)"
   ]
  },
  {
   "cell_type": "code",
   "execution_count": null,
   "metadata": {},
   "outputs": [],
   "source": [
    "plt.plot(pca_2d[:,0].real, pca_2d[:,1].real, 'o')\n",
    "plt.xlabel('x_values')\n",
    "plt.ylabel('y_values')\n",
    "plt.show()"
   ]
  },
  {
   "cell_type": "code",
   "execution_count": null,
   "metadata": {},
   "outputs": [],
   "source": [
    "ax = plt.axes(projection='3d')\n",
    "\n",
    "zdata = pca_3d[:,0].real\n",
    "xdata = pca_3d[:,1].real\n",
    "ydata = pca_3d[:,2].real\n",
    "ax.scatter3D(xdata, ydata, zdata, c=zdata);"
   ]
  },
  {
   "cell_type": "markdown",
   "metadata": {},
   "source": [
    "### Classifying the test images using the rule of nearest neighbor"
   ]
  },
  {
   "cell_type": "code",
   "execution_count": null,
   "metadata": {},
   "outputs": [],
   "source": [
    "from sklearn.model_selection import train_test_split\n",
    "from sklearn.neighbors import KNeighborsClassifier"
   ]
  },
  {
   "cell_type": "code",
   "execution_count": null,
   "metadata": {},
   "outputs": [],
   "source": [
    "def get_reduced_dim_data(eig_vec, X, dim):\n",
    "    pca_vec = eig_vec[:,0:dim]\n",
    "    return np.dot(X, pca_vec)"
   ]
  },
  {
   "cell_type": "code",
   "execution_count": null,
   "metadata": {},
   "outputs": [],
   "source": [
    "X, y = select_images(images, labels, len(images))"
   ]
  },
  {
   "cell_type": "code",
   "execution_count": null,
   "metadata": {},
   "outputs": [],
   "source": [
    "eig_val, eig_vec, projected, centred_data = PCA(X)"
   ]
  },
  {
   "cell_type": "code",
   "execution_count": null,
   "metadata": {},
   "outputs": [],
   "source": [
    "dimensions = [40, 80, 200]"
   ]
  },
  {
   "cell_type": "code",
   "execution_count": null,
   "metadata": {},
   "outputs": [],
   "source": [
    "for dim in dimensions:\n",
    "    X_pca = get_reduced_dim_data(eig_vec, centred_data, dim).real\n",
    "    #split dataset into train and test data\n",
    "    X_train, X_test, y_train, y_test = train_test_split(X_pca, y, test_size=0.3)\n",
    "    # Create KNN classifier\n",
    "    knn = KNeighborsClassifier(n_neighbors = 1)\n",
    "    # Fit the classifier to the data\n",
    "    knn.fit(X_train, y_train)\n",
    "    y_pred = knn.predict(X_test)\n",
    "    score = knn.score(X_test, y_test)\n",
    "    print(score)"
   ]
  },
  {
   "cell_type": "code",
   "execution_count": null,
   "metadata": {},
   "outputs": [],
   "source": []
  },
  {
   "cell_type": "code",
   "execution_count": null,
   "metadata": {},
   "outputs": [],
   "source": []
  },
  {
   "cell_type": "code",
   "execution_count": null,
   "metadata": {},
   "outputs": [],
   "source": []
  },
  {
   "cell_type": "code",
   "execution_count": null,
   "metadata": {},
   "outputs": [],
   "source": []
  }
 ],
 "metadata": {
  "kernelspec": {
   "display_name": "Python 3",
   "language": "python",
   "name": "python3"
  },
  "language_info": {
   "codemirror_mode": {
    "name": "ipython",
    "version": 3
   },
   "file_extension": ".py",
   "mimetype": "text/x-python",
   "name": "python",
   "nbconvert_exporter": "python",
   "pygments_lexer": "ipython3",
   "version": "3.7.4"
  }
 },
 "nbformat": 4,
 "nbformat_minor": 4
}

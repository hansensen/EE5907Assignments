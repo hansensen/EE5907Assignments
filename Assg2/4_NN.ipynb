{
 "cells": [
  {
   "cell_type": "markdown",
   "metadata": {},
   "source": [
    "# Neural Networks"
   ]
  },
  {
   "cell_type": "markdown",
   "metadata": {},
   "source": [
    "Read the documentation for training a simple convolutional neural network (ref. http: //www.vlfeat.org/matconvnet/training/). Train a CNN with two convolutional layers and one fully connected layer, with the architecture specified as follows: number of nodes: 20-50-500-21. The number of the nodes in the last layer is fixed as 21 as we are per- forming 21-category (20 CMU PIE faces plus 1 for yourself) classification. Convolutional kernel sizes are set as 5. Each convolutional layer is followed by a max pooling layer with a kernel size of 2 and stride of 2. The fully connected layer is followed by ReLU. Train the network and report the final classification performance."
   ]
  },
  {
   "cell_type": "markdown",
   "metadata": {},
   "source": [
    "### Read all the images"
   ]
  },
  {
   "cell_type": "code",
   "execution_count": 1,
   "metadata": {},
   "outputs": [],
   "source": [
    "import numpy as np\n",
    "import os\n",
    "import matplotlib.pyplot as plt\n",
    "%matplotlib inline\n",
    "from mpl_toolkits import mplot3d"
   ]
  },
  {
   "cell_type": "code",
   "execution_count": 2,
   "metadata": {},
   "outputs": [],
   "source": [
    "def read_images():\n",
    "    dir='PIE'\n",
    "    PIE=os.listdir(dir)\n",
    "    all_img = []\n",
    "    img_folders=[dir+'/' + photo for photo in PIE]\n",
    "    selected_subjects = np.random.choice(range(len(img_folders)), 20, replace=False)\n",
    "    \n",
    "    selected_sub_folders = [img_folders[index] for index in selected_subjects]\n",
    "    print('Selected Subjects:')\n",
    "    print(selected_sub_folders)\n",
    "\n",
    "    for img_dir in selected_sub_folders:\n",
    "        img_path=os.listdir(img_dir)\n",
    "        img_dir_index=[img_dir+'/' + photo for photo in img_path]\n",
    "        all_img.append(img_dir_index)\n",
    "\n",
    "    flat_list = []\n",
    "    for sublist in all_img:\n",
    "        for item in sublist:\n",
    "            flat_list.append(item)\n",
    "    \n",
    "    images = np.array([plt.imread(image) for image in flat_list], dtype=np.int16)\n",
    "    labels = np.zeros((len(images)))\n",
    "\n",
    "    for i, path in enumerate(flat_list):\n",
    "        labels[i] = path.split('/')[1]\n",
    "    return images, labels"
   ]
  },
  {
   "cell_type": "code",
   "execution_count": 3,
   "metadata": {},
   "outputs": [],
   "source": [
    "def read_my_images():\n",
    "    my_img_path = 'my_images'\n",
    "    img_list=os.listdir(my_img_path)\n",
    "    print(img_list)\n",
    "    my_images = np.array([plt.imread(my_img_path + '/' + image) for image in img_list], dtype=np.int16)\n",
    "    my_labels = np.full((10), 69)\n",
    "    return my_images, my_labels"
   ]
  },
  {
   "cell_type": "code",
   "execution_count": 4,
   "metadata": {},
   "outputs": [
    {
     "name": "stdout",
     "output_type": "stream",
     "text": [
      "Selected Subjects:\n",
      "['PIE/24', 'PIE/7', 'PIE/21', 'PIE/9', 'PIE/34', 'PIE/47', 'PIE/18', 'PIE/36', 'PIE/3', 'PIE/29', 'PIE/65', 'PIE/44', 'PIE/1', 'PIE/14', 'PIE/46', 'PIE/12', 'PIE/56', 'PIE/54', 'PIE/64', 'PIE/68']\n"
     ]
    }
   ],
   "source": [
    "images, labels = read_images()\n",
    "n_samples, image_size, _ = images.shape\n",
    "n_features = image_size * image_size"
   ]
  },
  {
   "cell_type": "code",
   "execution_count": 5,
   "metadata": {},
   "outputs": [
    {
     "name": "stdout",
     "output_type": "stream",
     "text": [
      "['8.jpg', '9.jpg', '4.jpg', '5.jpg', '7.jpg', '6.jpg', '2.jpg', '3.jpg', '1.jpg', '0.jpg']\n"
     ]
    }
   ],
   "source": [
    "my_images, my_labels = read_my_images()"
   ]
  },
  {
   "cell_type": "code",
   "execution_count": 6,
   "metadata": {},
   "outputs": [
    {
     "data": {
      "text/plain": [
       "(20,)"
      ]
     },
     "execution_count": 6,
     "metadata": {},
     "output_type": "execute_result"
    }
   ],
   "source": [
    "np.unique(labels).shape"
   ]
  },
  {
   "cell_type": "markdown",
   "metadata": {},
   "source": [
    "### Randomly select 500 images"
   ]
  },
  {
   "cell_type": "code",
   "execution_count": 7,
   "metadata": {},
   "outputs": [],
   "source": [
    "def select_images(images, labels, select_num):\n",
    "    num_images = len(images)\n",
    "    np.random.seed(99)\n",
    "    if select_num == len(images):\n",
    "        return images.reshape([select_num, n_features]), labels\n",
    "    rand_images_list = np.random.randint(0, num_images, select_num)\n",
    "    X = images[rand_images_list].reshape([select_num, n_features])\n",
    "    y = labels[rand_images_list]\n",
    "    return X, y"
   ]
  },
  {
   "cell_type": "code",
   "execution_count": 8,
   "metadata": {},
   "outputs": [],
   "source": [
    "X, y = select_images(images, labels, 500)"
   ]
  },
  {
   "cell_type": "code",
   "execution_count": 9,
   "metadata": {},
   "outputs": [
    {
     "data": {
      "text/plain": [
       "(20,)"
      ]
     },
     "execution_count": 9,
     "metadata": {},
     "output_type": "execute_result"
    }
   ],
   "source": [
    "np.unique(labels).shape"
   ]
  },
  {
   "cell_type": "markdown",
   "metadata": {},
   "source": [
    "## Convolutional Neural Network"
   ]
  },
  {
   "cell_type": "code",
   "execution_count": 10,
   "metadata": {},
   "outputs": [
    {
     "name": "stderr",
     "output_type": "stream",
     "text": [
      "Using TensorFlow backend.\n"
     ]
    }
   ],
   "source": [
    "from keras.models import Sequential\n",
    "from keras.layers import Dense, Conv2D, MaxPool2D, Flatten\n",
    "from keras import optimizers\n",
    "import keras.backend as K"
   ]
  },
  {
   "cell_type": "code",
   "execution_count": 16,
   "metadata": {},
   "outputs": [],
   "source": [
    "X, y = select_images(images, labels, n_samples)"
   ]
  },
  {
   "cell_type": "code",
   "execution_count": 25,
   "metadata": {},
   "outputs": [],
   "source": [
    "X = X.reshape(-1, image_size, image_size, 1)\n",
    "my_images = my_images.reshape(-1, image_size, image_size, 1)"
   ]
  },
  {
   "cell_type": "code",
   "execution_count": 26,
   "metadata": {},
   "outputs": [],
   "source": [
    "from sklearn.model_selection import train_test_split\n",
    "X_train, X_test, y_train, y_test = train_test_split(X, y, test_size=0.3)"
   ]
  },
  {
   "cell_type": "code",
   "execution_count": 27,
   "metadata": {},
   "outputs": [
    {
     "data": {
      "text/plain": [
       "(2380, 32, 32, 1)"
      ]
     },
     "execution_count": 27,
     "metadata": {},
     "output_type": "execute_result"
    }
   ],
   "source": [
    "X_train.shape"
   ]
  },
  {
   "cell_type": "code",
   "execution_count": 28,
   "metadata": {},
   "outputs": [],
   "source": [
    "my_img_train = np.random.choice(range(10), 7, replace=False)\n",
    "my_img_test = np.delete(np.arange(0,10), my_img_train)"
   ]
  },
  {
   "cell_type": "code",
   "execution_count": 29,
   "metadata": {},
   "outputs": [],
   "source": [
    "X_train_self = my_images[my_img_train]\n",
    "X_test_self = my_images[my_img_test]\n",
    "y_train_self = my_labels[my_img_train]\n",
    "y_test_self = my_labels[my_img_test]"
   ]
  },
  {
   "cell_type": "code",
   "execution_count": 30,
   "metadata": {},
   "outputs": [],
   "source": [
    "X_train = np.concatenate((X_train, X_train_self), axis=0)\n",
    "X_test = np.concatenate((X_test, X_test_self), axis=0)\n",
    "y_train = np.concatenate((y_train, y_train_self), axis=0)\n",
    "y_test = np.concatenate((y_test, y_test_self), axis=0)"
   ]
  },
  {
   "cell_type": "code",
   "execution_count": 33,
   "metadata": {},
   "outputs": [],
   "source": [
    "# binary encode\n",
    "from sklearn.preprocessing import OneHotEncoder\n",
    "onehot_encoder = OneHotEncoder(sparse=False)\n",
    "y_train_reshaped = y_train.reshape(len(y_train), 1)\n",
    "y_train_onehot_encoded = onehot_encoder.fit_transform(y_train_reshaped)\n",
    "y_test_reshaped = y_test.reshape(len(y_test), 1)\n",
    "y_test_onehot_encoded = onehot_encoder.fit_transform(y_test_reshaped)"
   ]
  },
  {
   "cell_type": "code",
   "execution_count": 37,
   "metadata": {},
   "outputs": [],
   "source": [
    "K.clear_session()\n",
    "\n",
    "model = Sequential()\n",
    "\n",
    "model.add(Conv2D(20, (5, 5), activation='relu', input_shape=(image_size, image_size, 1)))\n",
    "model.add(MaxPool2D(pool_size=(2, 2)))\n",
    "\n",
    "model.add(Conv2D(50, (5, 5), activation='relu'))\n",
    "model.add(MaxPool2D(pool_size=(2, 2)))\n",
    "\n",
    "model.add(Flatten())\n",
    "\n",
    "model.add(Dense(500, activation='relu'))\n",
    "\n",
    "model.add(Dense(21, activation='softmax'))\n",
    "\n",
    "model.compile(loss='categorical_crossentropy',\n",
    "              optimizer=optimizers.RMSprop(lr=1e-4),  \n",
    "              metrics=['accuracy'])"
   ]
  },
  {
   "cell_type": "code",
   "execution_count": 38,
   "metadata": {},
   "outputs": [
    {
     "name": "stdout",
     "output_type": "stream",
     "text": [
      "_________________________________________________________________\n",
      "Layer (type)                 Output Shape              Param #   \n",
      "=================================================================\n",
      "conv2d_1 (Conv2D)            (None, 28, 28, 20)        520       \n",
      "_________________________________________________________________\n",
      "max_pooling2d_1 (MaxPooling2 (None, 14, 14, 20)        0         \n",
      "_________________________________________________________________\n",
      "conv2d_2 (Conv2D)            (None, 10, 10, 50)        25050     \n",
      "_________________________________________________________________\n",
      "max_pooling2d_2 (MaxPooling2 (None, 5, 5, 50)          0         \n",
      "_________________________________________________________________\n",
      "flatten_1 (Flatten)          (None, 1250)              0         \n",
      "_________________________________________________________________\n",
      "dense_1 (Dense)              (None, 500)               625500    \n",
      "_________________________________________________________________\n",
      "dense_2 (Dense)              (None, 21)                10521     \n",
      "=================================================================\n",
      "Total params: 661,591\n",
      "Trainable params: 661,591\n",
      "Non-trainable params: 0\n",
      "_________________________________________________________________\n"
     ]
    }
   ],
   "source": [
    "model.summary()"
   ]
  },
  {
   "cell_type": "code",
   "execution_count": 39,
   "metadata": {},
   "outputs": [
    {
     "name": "stdout",
     "output_type": "stream",
     "text": [
      "Train on 1670 samples, validate on 717 samples\n",
      "Epoch 1/50\n",
      "1670/1670 [==============================] - 10s 6ms/step - loss: 14.9140 - acc: 0.0437 - val_loss: 15.2317 - val_acc: 0.0530\n",
      "Epoch 2/50\n",
      "1670/1670 [==============================] - 10s 6ms/step - loss: 14.5458 - acc: 0.0593 - val_loss: 13.2844 - val_acc: 0.0530\n",
      "Epoch 3/50\n",
      "1670/1670 [==============================] - 10s 6ms/step - loss: 11.3223 - acc: 0.1096 - val_loss: 11.1676 - val_acc: 0.0921\n",
      "Epoch 4/50\n",
      "1670/1670 [==============================] - 10s 6ms/step - loss: 6.3224 - acc: 0.1898 - val_loss: 7.6518 - val_acc: 0.1158\n",
      "Epoch 5/50\n",
      "1670/1670 [==============================] - 10s 6ms/step - loss: 3.4241 - acc: 0.2892 - val_loss: 7.0334 - val_acc: 0.0865\n",
      "Epoch 6/50\n",
      "1670/1670 [==============================] - 10s 6ms/step - loss: 2.6282 - acc: 0.4078 - val_loss: 5.4711 - val_acc: 0.1646\n",
      "Epoch 7/50\n",
      "1670/1670 [==============================] - 10s 6ms/step - loss: 1.8161 - acc: 0.5216 - val_loss: 4.3934 - val_acc: 0.2148\n",
      "Epoch 8/50\n",
      "1670/1670 [==============================] - 10s 6ms/step - loss: 1.5632 - acc: 0.6012 - val_loss: 3.9450 - val_acc: 0.2329\n",
      "Epoch 9/50\n",
      "1670/1670 [==============================] - 10s 6ms/step - loss: 1.1625 - acc: 0.6970 - val_loss: 3.1600 - val_acc: 0.2999\n",
      "Epoch 10/50\n",
      "1670/1670 [==============================] - 10s 6ms/step - loss: 0.8865 - acc: 0.7575 - val_loss: 3.4909 - val_acc: 0.3222\n",
      "Epoch 11/50\n",
      "1670/1670 [==============================] - 10s 6ms/step - loss: 0.8128 - acc: 0.7946 - val_loss: 4.0820 - val_acc: 0.2887\n",
      "Epoch 12/50\n",
      "1670/1670 [==============================] - 11s 6ms/step - loss: 0.8655 - acc: 0.8186 - val_loss: 1.1657 - val_acc: 0.7029\n",
      "Epoch 13/50\n",
      "1670/1670 [==============================] - 10s 6ms/step - loss: 0.4636 - acc: 0.8695 - val_loss: 0.9536 - val_acc: 0.7587\n",
      "Epoch 14/50\n",
      "1670/1670 [==============================] - 10s 6ms/step - loss: 0.3632 - acc: 0.9084 - val_loss: 1.0429 - val_acc: 0.7657\n",
      "Epoch 15/50\n",
      "1670/1670 [==============================] - 10s 6ms/step - loss: 0.2876 - acc: 0.9317 - val_loss: 1.3614 - val_acc: 0.6792\n",
      "Epoch 16/50\n",
      "1670/1670 [==============================] - 10s 6ms/step - loss: 0.2843 - acc: 0.9437 - val_loss: 2.4377 - val_acc: 0.4770\n",
      "Epoch 17/50\n",
      "1670/1670 [==============================] - 11s 7ms/step - loss: 0.2886 - acc: 0.9359 - val_loss: 0.5286 - val_acc: 0.8940\n",
      "Epoch 18/50\n",
      "1670/1670 [==============================] - 12s 7ms/step - loss: 0.1711 - acc: 0.9653 - val_loss: 1.2546 - val_acc: 0.6444\n",
      "Epoch 19/50\n",
      "1670/1670 [==============================] - 10s 6ms/step - loss: 0.1954 - acc: 0.9569 - val_loss: 0.4326 - val_acc: 0.9275\n",
      "Epoch 20/50\n",
      "1670/1670 [==============================] - 11s 7ms/step - loss: 0.3270 - acc: 0.9293 - val_loss: 1.0144 - val_acc: 0.7141\n",
      "Epoch 21/50\n",
      "1670/1670 [==============================] - 11s 7ms/step - loss: 0.1107 - acc: 0.9778 - val_loss: 0.4137 - val_acc: 0.9317\n",
      "Epoch 22/50\n",
      "1670/1670 [==============================] - 11s 6ms/step - loss: 0.0494 - acc: 0.9958 - val_loss: 0.3943 - val_acc: 0.9386\n",
      "Epoch 23/50\n",
      "1670/1670 [==============================] - 11s 6ms/step - loss: 0.1552 - acc: 0.9671 - val_loss: 1.5604 - val_acc: 0.7225\n",
      "Epoch 24/50\n",
      "1670/1670 [==============================] - 11s 6ms/step - loss: 0.1515 - acc: 0.9743 - val_loss: 0.4305 - val_acc: 0.9219\n",
      "Epoch 25/50\n",
      "1670/1670 [==============================] - 11s 6ms/step - loss: 0.0278 - acc: 0.9994 - val_loss: 0.4768 - val_acc: 0.9038\n",
      "Epoch 26/50\n",
      "1670/1670 [==============================] - 11s 6ms/step - loss: 0.3054 - acc: 0.9413 - val_loss: 0.4519 - val_acc: 0.9261\n",
      "Epoch 27/50\n",
      "1670/1670 [==============================] - 11s 6ms/step - loss: 0.0284 - acc: 0.9982 - val_loss: 0.5175 - val_acc: 0.8828\n",
      "Epoch 28/50\n",
      "1670/1670 [==============================] - 11s 7ms/step - loss: 0.0214 - acc: 0.9994 - val_loss: 0.4027 - val_acc: 0.9372\n",
      "Epoch 29/50\n",
      "1670/1670 [==============================] - 11s 6ms/step - loss: 0.0170 - acc: 0.9988 - val_loss: 0.3395 - val_acc: 0.9554\n",
      "Epoch 30/50\n",
      "1670/1670 [==============================] - 11s 7ms/step - loss: 0.4614 - acc: 0.9204 - val_loss: 0.3948 - val_acc: 0.9331\n",
      "Epoch 31/50\n",
      "1670/1670 [==============================] - 10s 6ms/step - loss: 0.0179 - acc: 1.0000 - val_loss: 0.3504 - val_acc: 0.9498\n",
      "Epoch 32/50\n",
      "1670/1670 [==============================] - 10s 6ms/step - loss: 0.0110 - acc: 1.0000 - val_loss: 1.4436 - val_acc: 0.6932\n",
      "Epoch 33/50\n",
      "1670/1670 [==============================] - 10s 6ms/step - loss: 0.1639 - acc: 0.9713 - val_loss: 0.3814 - val_acc: 0.9303\n",
      "Epoch 34/50\n",
      "1670/1670 [==============================] - 10s 6ms/step - loss: 0.0091 - acc: 1.0000 - val_loss: 0.3523 - val_acc: 0.9442\n",
      "Epoch 35/50\n",
      "1670/1670 [==============================] - 10s 6ms/step - loss: 0.0070 - acc: 1.0000 - val_loss: 0.3369 - val_acc: 0.9568\n",
      "Epoch 36/50\n",
      "1670/1670 [==============================] - 10s 6ms/step - loss: 0.0067 - acc: 1.0000 - val_loss: 3.0814 - val_acc: 0.5397\n",
      "Epoch 37/50\n",
      "1670/1670 [==============================] - 10s 6ms/step - loss: 0.3094 - acc: 0.9485 - val_loss: 0.3575 - val_acc: 0.9442\n",
      "Epoch 38/50\n",
      "1670/1670 [==============================] - 10s 6ms/step - loss: 0.0073 - acc: 1.0000 - val_loss: 0.3388 - val_acc: 0.9484\n",
      "Epoch 39/50\n",
      "1670/1670 [==============================] - 10s 6ms/step - loss: 0.0054 - acc: 1.0000 - val_loss: 0.3323 - val_acc: 0.9512\n",
      "Epoch 40/50\n",
      "1670/1670 [==============================] - 10s 6ms/step - loss: 0.0042 - acc: 1.0000 - val_loss: 0.3198 - val_acc: 0.9554\n",
      "Epoch 41/50\n",
      "1670/1670 [==============================] - 10s 6ms/step - loss: 0.0031 - acc: 1.0000 - val_loss: 0.3258 - val_acc: 0.9484\n",
      "Epoch 42/50\n",
      "1670/1670 [==============================] - 10s 6ms/step - loss: 0.3634 - acc: 0.9467 - val_loss: 0.3395 - val_acc: 0.9540\n",
      "Epoch 43/50\n",
      "1670/1670 [==============================] - 10s 6ms/step - loss: 0.0075 - acc: 1.0000 - val_loss: 0.3231 - val_acc: 0.9498\n",
      "Epoch 44/50\n",
      "1670/1670 [==============================] - 10s 6ms/step - loss: 0.0041 - acc: 1.0000 - val_loss: 0.3203 - val_acc: 0.9554\n",
      "Epoch 45/50\n",
      "1670/1670 [==============================] - 10s 6ms/step - loss: 0.0028 - acc: 1.0000 - val_loss: 0.4357 - val_acc: 0.9261\n",
      "Epoch 46/50\n",
      "1670/1670 [==============================] - 10s 6ms/step - loss: 0.0023 - acc: 1.0000 - val_loss: 0.3106 - val_acc: 0.9568\n",
      "Epoch 47/50\n",
      "1670/1670 [==============================] - 10s 6ms/step - loss: 0.0016 - acc: 1.0000 - val_loss: 0.3145 - val_acc: 0.9554\n",
      "Epoch 48/50\n",
      "1670/1670 [==============================] - 10s 6ms/step - loss: 0.1526 - acc: 0.9802 - val_loss: 0.3189 - val_acc: 0.9526\n",
      "Epoch 49/50\n",
      "1670/1670 [==============================] - 11s 6ms/step - loss: 0.0030 - acc: 1.0000 - val_loss: 0.3086 - val_acc: 0.9540\n",
      "Epoch 50/50\n",
      "1670/1670 [==============================] - 11s 7ms/step - loss: 0.0017 - acc: 1.0000 - val_loss: 0.3045 - val_acc: 0.9554\n"
     ]
    },
    {
     "data": {
      "text/plain": [
       "<keras.callbacks.History at 0x1a2c7e27b8>"
      ]
     },
     "execution_count": 39,
     "metadata": {},
     "output_type": "execute_result"
    }
   ],
   "source": [
    "model.fit(X_train, y_train_onehot_encoded, batch_size=128,\n",
    "          epochs=50, verbose=1, validation_split=0.3)"
   ]
  },
  {
   "cell_type": "code",
   "execution_count": 40,
   "metadata": {},
   "outputs": [
    {
     "name": "stdout",
     "output_type": "stream",
     "text": [
      "1023/1023 [==============================] - 2s 2ms/step\n"
     ]
    },
    {
     "data": {
      "text/plain": [
       "[0.18544669005062106, 0.9628543491354203]"
      ]
     },
     "execution_count": 40,
     "metadata": {},
     "output_type": "execute_result"
    }
   ],
   "source": [
    "model.evaluate(X_test, y_test_onehot_encoded)"
   ]
  },
  {
   "cell_type": "code",
   "execution_count": 41,
   "metadata": {},
   "outputs": [],
   "source": [
    "y_pred = model.predict(X_test)"
   ]
  },
  {
   "cell_type": "code",
   "execution_count": 60,
   "metadata": {},
   "outputs": [
    {
     "data": {
      "text/plain": [
       "array([15, 15, 15])"
      ]
     },
     "execution_count": 60,
     "metadata": {},
     "output_type": "execute_result"
    }
   ],
   "source": [
    "np.argmax(y_pred[-3:], axis=1)"
   ]
  },
  {
   "cell_type": "code",
   "execution_count": null,
   "metadata": {},
   "outputs": [],
   "source": []
  },
  {
   "cell_type": "code",
   "execution_count": 61,
   "metadata": {},
   "outputs": [],
   "source": [
    "y_pred = model.predict(X_train)"
   ]
  },
  {
   "cell_type": "code",
   "execution_count": 62,
   "metadata": {},
   "outputs": [
    {
     "data": {
      "text/plain": [
       "array([ 1, 15,  1,  7,  1,  1,  1])"
      ]
     },
     "execution_count": 62,
     "metadata": {},
     "output_type": "execute_result"
    }
   ],
   "source": [
    "np.argmax(y_pred[-7:], axis=1)"
   ]
  },
  {
   "cell_type": "code",
   "execution_count": null,
   "metadata": {},
   "outputs": [],
   "source": []
  }
 ],
 "metadata": {
  "kernelspec": {
   "display_name": "Python 3",
   "language": "python",
   "name": "python3"
  },
  "language_info": {
   "codemirror_mode": {
    "name": "ipython",
    "version": 3
   },
   "file_extension": ".py",
   "mimetype": "text/x-python",
   "name": "python",
   "nbconvert_exporter": "python",
   "pygments_lexer": "ipython3",
   "version": "3.6.6"
  }
 },
 "nbformat": 4,
 "nbformat_minor": 4
}

{
 "cells": [
  {
   "cell_type": "markdown",
   "metadata": {},
   "source": [
    "# Neural Networks"
   ]
  },
  {
   "cell_type": "markdown",
   "metadata": {},
   "source": [
    "Read the documentation for training a simple convolutional neural network (ref. http: //www.vlfeat.org/matconvnet/training/). Train a CNN with two convolutional layers and one fully connected layer, with the architecture specified as follows: number of nodes: 20-50-500-21. The number of the nodes in the last layer is fixed as 21 as we are per- forming 21-category (20 CMU PIE faces plus 1 for yourself) classification. Convolutional kernel sizes are set as 5. Each convolutional layer is followed by a max pooling layer with a kernel size of 2 and stride of 2. The fully connected layer is followed by ReLU. Train the network and report the final classification performance."
   ]
  },
  {
   "cell_type": "markdown",
   "metadata": {},
   "source": [
    "### Read all the images"
   ]
  },
  {
   "cell_type": "code",
   "execution_count": 1,
   "metadata": {},
   "outputs": [],
   "source": [
    "import numpy as np\n",
    "import os\n",
    "import matplotlib.pyplot as plt\n",
    "%matplotlib inline\n",
    "from mpl_toolkits import mplot3d"
   ]
  },
  {
   "cell_type": "code",
   "execution_count": 2,
   "metadata": {},
   "outputs": [],
   "source": [
    "def read_images():\n",
    "    dir='PIE'\n",
    "    PIE=os.listdir(dir)\n",
    "    all_img = []\n",
    "    img_folders=[dir+'/' + photo for photo in PIE]\n",
    "    selected_subjects = np.random.choice(range(len(img_folders)), 20, replace=False)\n",
    "    \n",
    "    selected_sub_folders = [img_folders[index] for index in selected_subjects]\n",
    "    print('Selected Subjects:')\n",
    "    print(selected_sub_folders)\n",
    "\n",
    "    for img_dir in selected_sub_folders:\n",
    "        img_path=os.listdir(img_dir)\n",
    "        img_dir_index=[img_dir+'/' + photo for photo in img_path]\n",
    "        all_img.append(img_dir_index)\n",
    "\n",
    "    flat_list = []\n",
    "    for sublist in all_img:\n",
    "        for item in sublist:\n",
    "            flat_list.append(item)\n",
    "    \n",
    "    images = np.array([plt.imread(image) for image in flat_list], dtype=np.int16)\n",
    "    labels = np.zeros((len(images)))\n",
    "\n",
    "    for i, path in enumerate(flat_list):\n",
    "        labels[i] = path.split('/')[1]\n",
    "    return images, labels"
   ]
  },
  {
   "cell_type": "code",
   "execution_count": 3,
   "metadata": {},
   "outputs": [
    {
     "name": "stdout",
     "output_type": "stream",
     "text": [
      "Selected Subjects:\n",
      "['PIE/31', 'PIE/7', 'PIE/43', 'PIE/27', 'PIE/53', 'PIE/6', 'PIE/42', 'PIE/23', 'PIE/41', 'PIE/52', 'PIE/38', 'PIE/54', 'PIE/49', 'PIE/16', 'PIE/65', 'PIE/10', 'PIE/2', 'PIE/26', 'PIE/19', 'PIE/44']\n"
     ]
    }
   ],
   "source": [
    "images, labels = read_images()\n",
    "n_samples, image_size, _ = images.shape\n",
    "n_features = image_size * image_size"
   ]
  },
  {
   "cell_type": "code",
   "execution_count": 4,
   "metadata": {},
   "outputs": [
    {
     "data": {
      "text/plain": [
       "(20,)"
      ]
     },
     "execution_count": 4,
     "metadata": {},
     "output_type": "execute_result"
    }
   ],
   "source": [
    "np.unique(labels).shape"
   ]
  },
  {
   "cell_type": "markdown",
   "metadata": {},
   "source": [
    "### Randomly select 500 images"
   ]
  },
  {
   "cell_type": "code",
   "execution_count": 5,
   "metadata": {},
   "outputs": [],
   "source": [
    "def select_images(images, labels, select_num):\n",
    "    num_images = len(images)\n",
    "    np.random.seed(99)\n",
    "    if select_num == len(images):\n",
    "        return images.reshape([select_num, n_features]), labels\n",
    "    rand_images_list = np.random.randint(0, num_images, select_num)\n",
    "    X = images[rand_images_list].reshape([select_num, n_features])\n",
    "    y = labels[rand_images_list]\n",
    "    return X, y"
   ]
  },
  {
   "cell_type": "code",
   "execution_count": 6,
   "metadata": {},
   "outputs": [],
   "source": [
    "X, y = select_images(images, labels, 500)"
   ]
  },
  {
   "cell_type": "code",
   "execution_count": 7,
   "metadata": {},
   "outputs": [
    {
     "data": {
      "text/plain": [
       "(20,)"
      ]
     },
     "execution_count": 7,
     "metadata": {},
     "output_type": "execute_result"
    }
   ],
   "source": [
    "np.unique(labels).shape"
   ]
  },
  {
   "cell_type": "markdown",
   "metadata": {},
   "source": [
    "## Convolutional Neural Network"
   ]
  },
  {
   "cell_type": "code",
   "execution_count": 8,
   "metadata": {},
   "outputs": [
    {
     "name": "stderr",
     "output_type": "stream",
     "text": [
      "Using TensorFlow backend.\n"
     ]
    }
   ],
   "source": [
    "from keras.models import Sequential\n",
    "from keras.layers import Dense, Conv2D, MaxPool2D, Flatten\n",
    "from keras import optimizers\n",
    "import keras.backend as K"
   ]
  },
  {
   "cell_type": "code",
   "execution_count": 9,
   "metadata": {},
   "outputs": [],
   "source": [
    "X, y = select_images(images, labels, n_samples)"
   ]
  },
  {
   "cell_type": "code",
   "execution_count": 10,
   "metadata": {},
   "outputs": [],
   "source": [
    "X = X.reshape(-1, image_size, image_size, 1)"
   ]
  },
  {
   "cell_type": "code",
   "execution_count": 11,
   "metadata": {},
   "outputs": [],
   "source": [
    "from sklearn.model_selection import train_test_split\n",
    "X_train, X_test, y_train, y_test = train_test_split(X, y, test_size=0.3)"
   ]
  },
  {
   "cell_type": "code",
   "execution_count": 12,
   "metadata": {},
   "outputs": [],
   "source": [
    "# binary encode\n",
    "from sklearn.preprocessing import OneHotEncoder\n",
    "onehot_encoder = OneHotEncoder(sparse=False,categories='auto')\n",
    "y_train_reshaped = y_train.reshape(len(y_train), 1)\n",
    "y_train_onehot_encoded = onehot_encoder.fit_transform(y_train_reshaped)\n",
    "y_test_reshaped = y_test.reshape(len(y_test), 1)\n",
    "y_test_onehot_encoded = onehot_encoder.fit_transform(y_test_reshaped)"
   ]
  },
  {
   "cell_type": "code",
   "execution_count": 13,
   "metadata": {},
   "outputs": [
    {
     "name": "stdout",
     "output_type": "stream",
     "text": [
      "WARNING:tensorflow:From /Users/eugenehan/opt/anaconda3/envs/ztdl/lib/python3.7/site-packages/tensorflow/python/framework/op_def_library.py:263: colocate_with (from tensorflow.python.framework.ops) is deprecated and will be removed in a future version.\n",
      "Instructions for updating:\n",
      "Colocations handled automatically by placer.\n"
     ]
    }
   ],
   "source": [
    "K.clear_session()\n",
    "\n",
    "model = Sequential()\n",
    "\n",
    "model.add(Conv2D(20, (5, 5), activation='relu', input_shape=(image_size, image_size, 1)))\n",
    "model.add(MaxPool2D(pool_size=(2, 2)))\n",
    "\n",
    "model.add(Conv2D(50, (5, 5), activation='relu'))\n",
    "model.add(MaxPool2D(pool_size=(2, 2)))\n",
    "\n",
    "model.add(Flatten())\n",
    "\n",
    "model.add(Dense(500, activation='relu'))\n",
    "\n",
    "model.add(Dense(20, activation='softmax'))\n",
    "\n",
    "model.compile(loss='categorical_crossentropy',\n",
    "              optimizer=optimizers.RMSprop(lr=1e-4),  \n",
    "              metrics=['accuracy'])"
   ]
  },
  {
   "cell_type": "code",
   "execution_count": 14,
   "metadata": {},
   "outputs": [
    {
     "name": "stdout",
     "output_type": "stream",
     "text": [
      "Model: \"sequential_1\"\n",
      "_________________________________________________________________\n",
      "Layer (type)                 Output Shape              Param #   \n",
      "=================================================================\n",
      "conv2d_1 (Conv2D)            (None, 28, 28, 20)        520       \n",
      "_________________________________________________________________\n",
      "max_pooling2d_1 (MaxPooling2 (None, 14, 14, 20)        0         \n",
      "_________________________________________________________________\n",
      "conv2d_2 (Conv2D)            (None, 10, 10, 50)        25050     \n",
      "_________________________________________________________________\n",
      "max_pooling2d_2 (MaxPooling2 (None, 5, 5, 50)          0         \n",
      "_________________________________________________________________\n",
      "flatten_1 (Flatten)          (None, 1250)              0         \n",
      "_________________________________________________________________\n",
      "dense_1 (Dense)              (None, 500)               625500    \n",
      "_________________________________________________________________\n",
      "dense_2 (Dense)              (None, 20)                10020     \n",
      "=================================================================\n",
      "Total params: 661,090\n",
      "Trainable params: 661,090\n",
      "Non-trainable params: 0\n",
      "_________________________________________________________________\n"
     ]
    }
   ],
   "source": [
    "model.summary()"
   ]
  },
  {
   "cell_type": "code",
   "execution_count": 15,
   "metadata": {},
   "outputs": [
    {
     "name": "stdout",
     "output_type": "stream",
     "text": [
      "WARNING:tensorflow:From /Users/eugenehan/opt/anaconda3/envs/ztdl/lib/python3.7/site-packages/tensorflow/python/ops/math_ops.py:3066: to_int32 (from tensorflow.python.ops.math_ops) is deprecated and will be removed in a future version.\n",
      "Instructions for updating:\n",
      "Use tf.cast instead.\n",
      "Train on 1662 samples, validate on 713 samples\n",
      "Epoch 1/50\n",
      "1662/1662 [==============================] - 5s 3ms/step - loss: 13.4497 - acc: 0.0770 - val_loss: 11.8174 - val_acc: 0.1262\n",
      "Epoch 2/50\n",
      "1662/1662 [==============================] - 4s 2ms/step - loss: 10.8211 - acc: 0.1480 - val_loss: 10.5419 - val_acc: 0.1388\n",
      "Epoch 3/50\n",
      "1662/1662 [==============================] - 4s 3ms/step - loss: 9.1452 - acc: 0.1877 - val_loss: 8.6931 - val_acc: 0.1809\n",
      "Epoch 4/50\n",
      "1662/1662 [==============================] - 4s 3ms/step - loss: 6.8116 - acc: 0.2593 - val_loss: 7.0525 - val_acc: 0.2945\n",
      "Epoch 5/50\n",
      "1662/1662 [==============================] - 4s 3ms/step - loss: 5.4837 - acc: 0.3502 - val_loss: 4.5913 - val_acc: 0.3043\n",
      "Epoch 6/50\n",
      "1662/1662 [==============================] - 4s 3ms/step - loss: 3.5137 - acc: 0.3959 - val_loss: 3.1911 - val_acc: 0.3661\n",
      "Epoch 7/50\n",
      "1662/1662 [==============================] - 4s 2ms/step - loss: 2.3847 - acc: 0.4663 - val_loss: 2.9424 - val_acc: 0.4390\n",
      "Epoch 8/50\n",
      "1662/1662 [==============================] - 4s 2ms/step - loss: 1.7364 - acc: 0.5848 - val_loss: 1.8367 - val_acc: 0.5652\n",
      "Epoch 9/50\n",
      "1662/1662 [==============================] - 4s 3ms/step - loss: 1.3753 - acc: 0.6769 - val_loss: 1.5882 - val_acc: 0.5750\n",
      "Epoch 10/50\n",
      "1662/1662 [==============================] - 4s 2ms/step - loss: 0.9497 - acc: 0.7557 - val_loss: 1.1363 - val_acc: 0.6732\n",
      "Epoch 11/50\n",
      "1662/1662 [==============================] - 4s 2ms/step - loss: 0.7101 - acc: 0.8063 - val_loss: 1.0185 - val_acc: 0.6985\n",
      "Epoch 12/50\n",
      "1662/1662 [==============================] - 4s 2ms/step - loss: 0.6837 - acc: 0.8381 - val_loss: 0.7189 - val_acc: 0.7924\n",
      "Epoch 13/50\n",
      "1662/1662 [==============================] - 4s 2ms/step - loss: 0.4651 - acc: 0.8797 - val_loss: 0.9910 - val_acc: 0.7854\n",
      "Epoch 14/50\n",
      "1662/1662 [==============================] - 4s 2ms/step - loss: 0.3715 - acc: 0.9061 - val_loss: 0.4645 - val_acc: 0.8850\n",
      "Epoch 15/50\n",
      "1662/1662 [==============================] - 4s 2ms/step - loss: 0.3977 - acc: 0.9025 - val_loss: 0.4791 - val_acc: 0.8668\n",
      "Epoch 16/50\n",
      "1662/1662 [==============================] - 4s 2ms/step - loss: 0.2990 - acc: 0.9242 - val_loss: 1.5908 - val_acc: 0.7518\n",
      "Epoch 17/50\n",
      "1662/1662 [==============================] - 4s 2ms/step - loss: 0.3208 - acc: 0.9471 - val_loss: 0.3262 - val_acc: 0.9187\n",
      "Epoch 18/50\n",
      "1662/1662 [==============================] - 4s 2ms/step - loss: 0.1111 - acc: 0.9850 - val_loss: 0.3533 - val_acc: 0.8962\n",
      "Epoch 19/50\n",
      "1662/1662 [==============================] - 4s 2ms/step - loss: 0.3877 - acc: 0.9254 - val_loss: 0.3455 - val_acc: 0.9130\n",
      "Epoch 20/50\n",
      "1662/1662 [==============================] - 4s 2ms/step - loss: 0.0798 - acc: 0.9922 - val_loss: 0.3128 - val_acc: 0.9187\n",
      "Epoch 21/50\n",
      "1662/1662 [==============================] - 4s 3ms/step - loss: 0.0882 - acc: 0.9868 - val_loss: 1.1183 - val_acc: 0.7826\n",
      "Epoch 22/50\n",
      "1662/1662 [==============================] - 4s 2ms/step - loss: 0.2090 - acc: 0.9603 - val_loss: 0.2609 - val_acc: 0.9369\n",
      "Epoch 23/50\n",
      "1662/1662 [==============================] - 4s 2ms/step - loss: 0.0428 - acc: 0.9988 - val_loss: 0.2325 - val_acc: 0.9383\n",
      "Epoch 24/50\n",
      "1662/1662 [==============================] - 4s 2ms/step - loss: 0.2912 - acc: 0.9591 - val_loss: 0.2220 - val_acc: 0.9509\n",
      "Epoch 25/50\n",
      "1662/1662 [==============================] - 4s 2ms/step - loss: 0.0306 - acc: 0.9982 - val_loss: 0.2448 - val_acc: 0.9341\n",
      "Epoch 26/50\n",
      "1662/1662 [==============================] - 4s 2ms/step - loss: 0.1679 - acc: 0.9609 - val_loss: 0.1974 - val_acc: 0.9537\n",
      "Epoch 27/50\n",
      "1662/1662 [==============================] - 4s 2ms/step - loss: 0.0236 - acc: 0.9994 - val_loss: 0.2023 - val_acc: 0.9509\n",
      "Epoch 28/50\n",
      "1662/1662 [==============================] - 4s 2ms/step - loss: 0.2551 - acc: 0.9495 - val_loss: 0.4752 - val_acc: 0.9060\n",
      "Epoch 29/50\n",
      "1662/1662 [==============================] - 4s 2ms/step - loss: 0.0624 - acc: 0.9922 - val_loss: 0.2059 - val_acc: 0.9565\n",
      "Epoch 30/50\n",
      "1662/1662 [==============================] - 4s 2ms/step - loss: 0.0170 - acc: 1.0000 - val_loss: 0.1857 - val_acc: 0.9579\n",
      "Epoch 31/50\n",
      "1662/1662 [==============================] - 4s 2ms/step - loss: 0.0138 - acc: 1.0000 - val_loss: 0.1830 - val_acc: 0.9565\n",
      "Epoch 32/50\n",
      "1662/1662 [==============================] - 4s 3ms/step - loss: 0.0107 - acc: 1.0000 - val_loss: 0.1842 - val_acc: 0.9537\n",
      "Epoch 33/50\n",
      "1662/1662 [==============================] - 4s 2ms/step - loss: 0.0306 - acc: 0.9958 - val_loss: 1.3402 - val_acc: 0.7489\n",
      "Epoch 34/50\n",
      "1662/1662 [==============================] - 4s 2ms/step - loss: 0.1516 - acc: 0.9747 - val_loss: 0.1663 - val_acc: 0.9621\n",
      "Epoch 35/50\n",
      "1662/1662 [==============================] - 4s 2ms/step - loss: 0.0069 - acc: 1.0000 - val_loss: 0.1662 - val_acc: 0.9565\n",
      "Epoch 36/50\n",
      "1662/1662 [==============================] - 4s 2ms/step - loss: 0.0055 - acc: 1.0000 - val_loss: 0.1670 - val_acc: 0.9607\n",
      "Epoch 37/50\n",
      "1662/1662 [==============================] - 4s 2ms/step - loss: 0.2174 - acc: 0.9657 - val_loss: 0.1925 - val_acc: 0.9453\n",
      "Epoch 38/50\n",
      "1662/1662 [==============================] - 4s 2ms/step - loss: 0.0084 - acc: 0.9994 - val_loss: 0.1645 - val_acc: 0.9565\n",
      "Epoch 39/50\n",
      "1662/1662 [==============================] - 4s 2ms/step - loss: 0.0045 - acc: 1.0000 - val_loss: 0.1608 - val_acc: 0.9607\n",
      "Epoch 40/50\n",
      "1662/1662 [==============================] - 4s 2ms/step - loss: 0.0035 - acc: 1.0000 - val_loss: 0.1667 - val_acc: 0.9621\n",
      "Epoch 41/50\n",
      "1662/1662 [==============================] - 4s 2ms/step - loss: 0.0028 - acc: 1.0000 - val_loss: 0.1585 - val_acc: 0.9663\n",
      "Epoch 42/50\n",
      "1662/1662 [==============================] - 4s 3ms/step - loss: 0.0363 - acc: 0.9904 - val_loss: 1.0540 - val_acc: 0.8345\n",
      "Epoch 43/50\n",
      "1662/1662 [==============================] - 4s 3ms/step - loss: 0.0993 - acc: 0.9904 - val_loss: 0.1552 - val_acc: 0.9635\n",
      "Epoch 44/50\n",
      "1662/1662 [==============================] - 4s 2ms/step - loss: 0.0029 - acc: 1.0000 - val_loss: 0.1485 - val_acc: 0.9677\n",
      "Epoch 45/50\n",
      "1662/1662 [==============================] - 4s 2ms/step - loss: 0.0020 - acc: 1.0000 - val_loss: 0.1465 - val_acc: 0.9691\n",
      "Epoch 46/50\n",
      "1662/1662 [==============================] - 4s 2ms/step - loss: 0.0016 - acc: 1.0000 - val_loss: 0.1488 - val_acc: 0.9607\n",
      "Epoch 47/50\n",
      "1662/1662 [==============================] - 4s 2ms/step - loss: 0.0014 - acc: 1.0000 - val_loss: 0.1626 - val_acc: 0.9649\n",
      "Epoch 48/50\n",
      "1662/1662 [==============================] - 4s 2ms/step - loss: 0.2721 - acc: 0.9615 - val_loss: 0.1683 - val_acc: 0.9621\n",
      "Epoch 49/50\n",
      "1662/1662 [==============================] - 4s 2ms/step - loss: 0.0026 - acc: 1.0000 - val_loss: 0.1533 - val_acc: 0.9649\n",
      "Epoch 50/50\n",
      "1662/1662 [==============================] - 4s 3ms/step - loss: 0.0018 - acc: 1.0000 - val_loss: 0.1486 - val_acc: 0.9663\n"
     ]
    },
    {
     "data": {
      "text/plain": [
       "<keras.callbacks.History at 0x1a3819fc50>"
      ]
     },
     "execution_count": 15,
     "metadata": {},
     "output_type": "execute_result"
    }
   ],
   "source": [
    "model.fit(X_train, y_train_onehot_encoded, batch_size=128,\n",
    "          epochs=50, verbose=1, validation_split=0.3)"
   ]
  },
  {
   "cell_type": "code",
   "execution_count": 16,
   "metadata": {},
   "outputs": [
    {
     "name": "stdout",
     "output_type": "stream",
     "text": [
      "1019/1019 [==============================] - 1s 1ms/step\n"
     ]
    },
    {
     "data": {
      "text/plain": [
       "[0.1858351557891198, 0.9538763499470525]"
      ]
     },
     "execution_count": 16,
     "metadata": {},
     "output_type": "execute_result"
    }
   ],
   "source": [
    "model.evaluate(X_test, y_test_onehot_encoded)"
   ]
  },
  {
   "cell_type": "code",
   "execution_count": null,
   "metadata": {},
   "outputs": [],
   "source": []
  },
  {
   "cell_type": "code",
   "execution_count": null,
   "metadata": {},
   "outputs": [],
   "source": []
  }
 ],
 "metadata": {
  "kernelspec": {
   "display_name": "Python 3",
   "language": "python",
   "name": "python3"
  },
  "language_info": {
   "codemirror_mode": {
    "name": "ipython",
    "version": 3
   },
   "file_extension": ".py",
   "mimetype": "text/x-python",
   "name": "python",
   "nbconvert_exporter": "python",
   "pygments_lexer": "ipython3",
   "version": "3.7.4"
  }
 },
 "nbformat": 4,
 "nbformat_minor": 4
}

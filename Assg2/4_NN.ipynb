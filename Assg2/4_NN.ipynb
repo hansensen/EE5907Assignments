{
 "cells": [
  {
   "cell_type": "markdown",
   "metadata": {},
   "source": [
    "# Neural Networks"
   ]
  },
  {
   "cell_type": "markdown",
   "metadata": {},
   "source": [
    "Read the documentation for training a simple convolutional neural network (ref. http: //www.vlfeat.org/matconvnet/training/). Train a CNN with two convolutional layers and one fully connected layer, with the architecture specified as follows: number of nodes: 20-50-500-21. The number of the nodes in the last layer is fixed as 21 as we are per- forming 21-category (20 CMU PIE faces plus 1 for yourself) classification. Convolutional kernel sizes are set as 5. Each convolutional layer is followed by a max pooling layer with a kernel size of 2 and stride of 2. The fully connected layer is followed by ReLU. Train the network and report the final classification performance."
   ]
  },
  {
   "cell_type": "markdown",
   "metadata": {},
   "source": [
    "### Read all the images"
   ]
  },
  {
   "cell_type": "code",
   "execution_count": 1,
   "metadata": {},
   "outputs": [],
   "source": [
    "import numpy as np\n",
    "import os\n",
    "import matplotlib.pyplot as plt\n",
    "%matplotlib inline\n",
    "from mpl_toolkits import mplot3d"
   ]
  },
  {
   "cell_type": "code",
   "execution_count": 2,
   "metadata": {},
   "outputs": [],
   "source": [
    "def read_images():\n",
    "    dir='PIE'\n",
    "    PIE=os.listdir(dir)\n",
    "    all_img = []\n",
    "    img_folders=[dir+'/' + photo for photo in PIE]\n",
    "    selected_subjects = np.random.choice(range(len(img_folders)), 20, replace=False)\n",
    "    \n",
    "    selected_sub_folders = [img_folders[index] for index in selected_subjects]\n",
    "    print('Selected Subjects:')\n",
    "    print(selected_sub_folders)\n",
    "\n",
    "    for img_dir in selected_sub_folders:\n",
    "        img_path=os.listdir(img_dir)\n",
    "        img_dir_index=[img_dir+'/' + photo for photo in img_path]\n",
    "        all_img.append(img_dir_index)\n",
    "\n",
    "    flat_list = []\n",
    "    for sublist in all_img:\n",
    "        for item in sublist:\n",
    "            flat_list.append(item)\n",
    "    \n",
    "    images = np.array([plt.imread(image) for image in flat_list], dtype=np.int16)\n",
    "    labels = np.zeros((len(images)))\n",
    "\n",
    "    for i, path in enumerate(flat_list):\n",
    "        labels[i] = path.split('/')[1]\n",
    "    return images, labels"
   ]
  },
  {
   "cell_type": "code",
   "execution_count": 3,
   "metadata": {},
   "outputs": [],
   "source": [
    "def read_my_images():\n",
    "    my_img_path = 'my_images'\n",
    "    img_list=os.listdir(my_img_path)\n",
    "    print(img_list)\n",
    "    my_images = np.array([plt.imread(my_img_path + '/' + image) for image in img_list], dtype=np.int16)\n",
    "    my_labels = np.full((10), 69)\n",
    "    return my_images, my_labels"
   ]
  },
  {
   "cell_type": "code",
   "execution_count": 4,
   "metadata": {},
   "outputs": [
    {
     "name": "stdout",
     "output_type": "stream",
     "text": [
      "Selected Subjects:\n",
      "['PIE/64', 'PIE/8', 'PIE/61', 'PIE/47', 'PIE/14', 'PIE/38', 'PIE/58', 'PIE/30', 'PIE/24', 'PIE/48', 'PIE/25', 'PIE/41', 'PIE/19', 'PIE/45', 'PIE/29', 'PIE/40', 'PIE/17', 'PIE/18', 'PIE/6', 'PIE/36']\n"
     ]
    }
   ],
   "source": [
    "images, labels = read_images()\n",
    "n_samples, image_size, _ = images.shape\n",
    "n_features = image_size * image_size"
   ]
  },
  {
   "cell_type": "code",
   "execution_count": 5,
   "metadata": {},
   "outputs": [
    {
     "name": "stdout",
     "output_type": "stream",
     "text": [
      "['8.jpg', '9.jpg', '4.jpg', '5.jpg', '7.jpg', '6.jpg', '2.jpg', '3.jpg', '1.jpg', '0.jpg']\n"
     ]
    }
   ],
   "source": [
    "my_images, my_labels = read_my_images()"
   ]
  },
  {
   "cell_type": "code",
   "execution_count": 6,
   "metadata": {},
   "outputs": [
    {
     "data": {
      "text/plain": [
       "(20,)"
      ]
     },
     "execution_count": 6,
     "metadata": {},
     "output_type": "execute_result"
    }
   ],
   "source": [
    "np.unique(labels).shape"
   ]
  },
  {
   "cell_type": "markdown",
   "metadata": {},
   "source": [
    "### Randomly select 500 images"
   ]
  },
  {
   "cell_type": "code",
   "execution_count": 7,
   "metadata": {},
   "outputs": [],
   "source": [
    "def select_images(images, labels, select_num):\n",
    "    num_images = len(images)\n",
    "    np.random.seed(99)\n",
    "    if select_num == len(images):\n",
    "        return images.reshape([select_num, n_features]), labels\n",
    "    rand_images_list = np.random.randint(0, num_images, select_num)\n",
    "    X = images[rand_images_list].reshape([select_num, n_features])\n",
    "    y = labels[rand_images_list]\n",
    "    return X, y"
   ]
  },
  {
   "cell_type": "code",
   "execution_count": 8,
   "metadata": {},
   "outputs": [],
   "source": [
    "X, y = select_images(images, labels, 500)"
   ]
  },
  {
   "cell_type": "code",
   "execution_count": 9,
   "metadata": {},
   "outputs": [
    {
     "data": {
      "text/plain": [
       "(20,)"
      ]
     },
     "execution_count": 9,
     "metadata": {},
     "output_type": "execute_result"
    }
   ],
   "source": [
    "np.unique(labels).shape"
   ]
  },
  {
   "cell_type": "markdown",
   "metadata": {},
   "source": [
    "## Convolutional Neural Network"
   ]
  },
  {
   "cell_type": "code",
   "execution_count": 10,
   "metadata": {},
   "outputs": [
    {
     "name": "stderr",
     "output_type": "stream",
     "text": [
      "Using TensorFlow backend.\n"
     ]
    }
   ],
   "source": [
    "from keras.models import Sequential\n",
    "from keras.layers import Dense, Conv2D, MaxPool2D, Flatten\n",
    "from keras import optimizers\n",
    "import keras.backend as K"
   ]
  },
  {
   "cell_type": "code",
   "execution_count": 11,
   "metadata": {},
   "outputs": [],
   "source": [
    "X, y = select_images(images, labels, n_samples)"
   ]
  },
  {
   "cell_type": "code",
   "execution_count": 12,
   "metadata": {},
   "outputs": [],
   "source": [
    "X = X.reshape(-1, image_size, image_size, 1)\n",
    "my_images = my_images.reshape(-1, image_size, image_size, 1)"
   ]
  },
  {
   "cell_type": "code",
   "execution_count": 13,
   "metadata": {},
   "outputs": [],
   "source": [
    "from sklearn.model_selection import train_test_split\n",
    "X_train, X_test, y_train, y_test = train_test_split(X, y, test_size=0.3)"
   ]
  },
  {
   "cell_type": "code",
   "execution_count": 14,
   "metadata": {},
   "outputs": [
    {
     "data": {
      "text/plain": [
       "(2375, 32, 32, 1)"
      ]
     },
     "execution_count": 14,
     "metadata": {},
     "output_type": "execute_result"
    }
   ],
   "source": [
    "X_train.shape"
   ]
  },
  {
   "cell_type": "code",
   "execution_count": 15,
   "metadata": {},
   "outputs": [],
   "source": [
    "my_img_train = np.random.choice(range(10), 7, replace=False)\n",
    "my_img_test = np.delete(np.arange(0,10), my_img_train)"
   ]
  },
  {
   "cell_type": "code",
   "execution_count": 16,
   "metadata": {},
   "outputs": [],
   "source": [
    "X_train_self = my_images[my_img_train]\n",
    "X_test_self = my_images[my_img_test]\n",
    "y_train_self = my_labels[my_img_train]\n",
    "y_test_self = my_labels[my_img_test]"
   ]
  },
  {
   "cell_type": "code",
   "execution_count": 17,
   "metadata": {},
   "outputs": [],
   "source": [
    "X_train = np.concatenate((X_train, X_train_self), axis=0)\n",
    "X_test = np.concatenate((X_test, X_test_self), axis=0)\n",
    "y_train = np.concatenate((y_train, y_train_self), axis=0)\n",
    "y_test = np.concatenate((y_test, y_test_self), axis=0)"
   ]
  },
  {
   "cell_type": "code",
   "execution_count": 18,
   "metadata": {},
   "outputs": [],
   "source": [
    "# binary encode\n",
    "from sklearn.preprocessing import OneHotEncoder\n",
    "onehot_encoder = OneHotEncoder(sparse=False)\n",
    "y_train_reshaped = y_train.reshape(len(y_train), 1)\n",
    "y_train_onehot_encoded = onehot_encoder.fit_transform(y_train_reshaped)\n",
    "y_test_reshaped = y_test.reshape(len(y_test), 1)\n",
    "y_test_onehot_encoded = onehot_encoder.fit_transform(y_test_reshaped)"
   ]
  },
  {
   "cell_type": "code",
   "execution_count": 19,
   "metadata": {},
   "outputs": [],
   "source": [
    "K.clear_session()\n",
    "\n",
    "model = Sequential()\n",
    "\n",
    "model.add(Conv2D(20, (5, 5), activation='relu', input_shape=(image_size, image_size, 1)))\n",
    "model.add(MaxPool2D(pool_size=(2, 2)))\n",
    "\n",
    "model.add(Conv2D(50, (5, 5), activation='relu'))\n",
    "model.add(MaxPool2D(pool_size=(2, 2)))\n",
    "\n",
    "model.add(Flatten())\n",
    "\n",
    "model.add(Dense(500, activation='relu'))\n",
    "\n",
    "model.add(Dense(21, activation='softmax'))\n",
    "\n",
    "model.compile(loss='categorical_crossentropy',\n",
    "              optimizer=optimizers.RMSprop(lr=1e-4),  \n",
    "              metrics=['accuracy'])"
   ]
  },
  {
   "cell_type": "code",
   "execution_count": 20,
   "metadata": {},
   "outputs": [
    {
     "name": "stdout",
     "output_type": "stream",
     "text": [
      "_________________________________________________________________\n",
      "Layer (type)                 Output Shape              Param #   \n",
      "=================================================================\n",
      "conv2d_1 (Conv2D)            (None, 28, 28, 20)        520       \n",
      "_________________________________________________________________\n",
      "max_pooling2d_1 (MaxPooling2 (None, 14, 14, 20)        0         \n",
      "_________________________________________________________________\n",
      "conv2d_2 (Conv2D)            (None, 10, 10, 50)        25050     \n",
      "_________________________________________________________________\n",
      "max_pooling2d_2 (MaxPooling2 (None, 5, 5, 50)          0         \n",
      "_________________________________________________________________\n",
      "flatten_1 (Flatten)          (None, 1250)              0         \n",
      "_________________________________________________________________\n",
      "dense_1 (Dense)              (None, 500)               625500    \n",
      "_________________________________________________________________\n",
      "dense_2 (Dense)              (None, 21)                10521     \n",
      "=================================================================\n",
      "Total params: 661,591\n",
      "Trainable params: 661,591\n",
      "Non-trainable params: 0\n",
      "_________________________________________________________________\n"
     ]
    }
   ],
   "source": [
    "model.summary()"
   ]
  },
  {
   "cell_type": "code",
   "execution_count": 21,
   "metadata": {},
   "outputs": [
    {
     "name": "stdout",
     "output_type": "stream",
     "text": [
      "Train on 1667 samples, validate on 715 samples\n",
      "Epoch 1/50\n",
      "1667/1667 [==============================] - 12s 7ms/step - loss: 11.7218 - acc: 0.0672 - val_loss: 11.1339 - val_acc: 0.0643\n",
      "Epoch 2/50\n",
      "1667/1667 [==============================] - 12s 7ms/step - loss: 5.4749 - acc: 0.1752 - val_loss: 6.9730 - val_acc: 0.0713\n",
      "Epoch 3/50\n",
      "1667/1667 [==============================] - 12s 7ms/step - loss: 3.3614 - acc: 0.2825 - val_loss: 8.3418 - val_acc: 0.0503\n",
      "Epoch 4/50\n",
      "1667/1667 [==============================] - 11s 7ms/step - loss: 2.8417 - acc: 0.3959 - val_loss: 4.4992 - val_acc: 0.1664\n",
      "Epoch 5/50\n",
      "1667/1667 [==============================] - 11s 7ms/step - loss: 1.9293 - acc: 0.4979 - val_loss: 6.2428 - val_acc: 0.1399\n",
      "Epoch 6/50\n",
      "1667/1667 [==============================] - 11s 7ms/step - loss: 1.6192 - acc: 0.5867 - val_loss: 3.0092 - val_acc: 0.2853\n",
      "Epoch 7/50\n",
      "1667/1667 [==============================] - 11s 7ms/step - loss: 1.1439 - acc: 0.6689 - val_loss: 5.3090 - val_acc: 0.1427\n",
      "Epoch 8/50\n",
      "1667/1667 [==============================] - 12s 7ms/step - loss: 1.0792 - acc: 0.7301 - val_loss: 6.6033 - val_acc: 0.1510\n",
      "Epoch 9/50\n",
      "1667/1667 [==============================] - 12s 7ms/step - loss: 1.0830 - acc: 0.7774 - val_loss: 1.4628 - val_acc: 0.5972\n",
      "Epoch 10/50\n",
      "1667/1667 [==============================] - 12s 7ms/step - loss: 0.5291 - acc: 0.8536 - val_loss: 3.5837 - val_acc: 0.3692\n",
      "Epoch 11/50\n",
      "1667/1667 [==============================] - 12s 7ms/step - loss: 0.5650 - acc: 0.8692 - val_loss: 2.3183 - val_acc: 0.4266\n",
      "Epoch 12/50\n",
      "1667/1667 [==============================] - 11s 7ms/step - loss: 0.4947 - acc: 0.8806 - val_loss: 1.1696 - val_acc: 0.6839\n",
      "Epoch 13/50\n",
      "1667/1667 [==============================] - 11s 7ms/step - loss: 0.2701 - acc: 0.9328 - val_loss: 4.6674 - val_acc: 0.2448\n",
      "Epoch 14/50\n",
      "1667/1667 [==============================] - 11s 7ms/step - loss: 0.5503 - acc: 0.8866 - val_loss: 0.6060 - val_acc: 0.8699\n",
      "Epoch 15/50\n",
      "1667/1667 [==============================] - 15s 9ms/step - loss: 0.1652 - acc: 0.9700 - val_loss: 6.3142 - val_acc: 0.1678\n",
      "Epoch 16/50\n",
      "1667/1667 [==============================] - 20s 12ms/step - loss: 0.7514 - acc: 0.8938 - val_loss: 0.6293 - val_acc: 0.8643\n",
      "Epoch 17/50\n",
      "1667/1667 [==============================] - 20s 12ms/step - loss: 0.1144 - acc: 0.9784 - val_loss: 1.4937 - val_acc: 0.6406\n",
      "Epoch 18/50\n",
      "1667/1667 [==============================] - 20s 12ms/step - loss: 0.1758 - acc: 0.9640 - val_loss: 2.1974 - val_acc: 0.5762\n",
      "Epoch 19/50\n",
      "1667/1667 [==============================] - 18s 11ms/step - loss: 0.2044 - acc: 0.9562 - val_loss: 0.5051 - val_acc: 0.8937\n",
      "Epoch 20/50\n",
      "1667/1667 [==============================] - 12s 7ms/step - loss: 0.0709 - acc: 0.9898 - val_loss: 0.7276 - val_acc: 0.8392\n",
      "Epoch 21/50\n",
      "1667/1667 [==============================] - 11s 7ms/step - loss: 0.1288 - acc: 0.9766 - val_loss: 0.6777 - val_acc: 0.8406\n",
      "Epoch 22/50\n",
      "1667/1667 [==============================] - 12s 7ms/step - loss: 0.1298 - acc: 0.9754 - val_loss: 0.4942 - val_acc: 0.9063\n",
      "Epoch 23/50\n",
      "1667/1667 [==============================] - 12s 7ms/step - loss: 0.0492 - acc: 0.9934 - val_loss: 3.3780 - val_acc: 0.3804\n",
      "Epoch 24/50\n",
      "1667/1667 [==============================] - 12s 7ms/step - loss: 0.3033 - acc: 0.9376 - val_loss: 0.4267 - val_acc: 0.9217\n",
      "Epoch 25/50\n",
      "1667/1667 [==============================] - 12s 7ms/step - loss: 0.0329 - acc: 0.9988 - val_loss: 0.4166 - val_acc: 0.9231\n",
      "Epoch 26/50\n",
      "1667/1667 [==============================] - 11s 7ms/step - loss: 0.0261 - acc: 0.9988 - val_loss: 0.4361 - val_acc: 0.9147\n",
      "Epoch 27/50\n",
      "1667/1667 [==============================] - 12s 7ms/step - loss: 0.0245 - acc: 0.9988 - val_loss: 0.5249 - val_acc: 0.8979\n",
      "Epoch 28/50\n",
      "1667/1667 [==============================] - 12s 7ms/step - loss: 0.2238 - acc: 0.9568 - val_loss: 0.8878 - val_acc: 0.8671\n",
      "Epoch 29/50\n",
      "1667/1667 [==============================] - 12s 7ms/step - loss: 0.0747 - acc: 0.9916 - val_loss: 0.5041 - val_acc: 0.9007\n",
      "Epoch 30/50\n",
      "1667/1667 [==============================] - 12s 7ms/step - loss: 0.0209 - acc: 0.9970 - val_loss: 0.3743 - val_acc: 0.9329\n",
      "Epoch 31/50\n",
      "1667/1667 [==============================] - 12s 7ms/step - loss: 0.0109 - acc: 1.0000 - val_loss: 0.3788 - val_acc: 0.9343\n",
      "Epoch 32/50\n",
      "1667/1667 [==============================] - 13s 8ms/step - loss: 0.0132 - acc: 0.9988 - val_loss: 3.1078 - val_acc: 0.5189\n",
      "Epoch 33/50\n",
      "1667/1667 [==============================] - 12s 7ms/step - loss: 0.2341 - acc: 0.9514 - val_loss: 0.3980 - val_acc: 0.9273\n",
      "Epoch 34/50\n",
      "1667/1667 [==============================] - 12s 7ms/step - loss: 0.0108 - acc: 1.0000 - val_loss: 0.3513 - val_acc: 0.9413\n",
      "Epoch 35/50\n",
      "1667/1667 [==============================] - 11s 6ms/step - loss: 0.0069 - acc: 1.0000 - val_loss: 0.3483 - val_acc: 0.9343\n",
      "Epoch 36/50\n",
      "1667/1667 [==============================] - 11s 6ms/step - loss: 0.0061 - acc: 1.0000 - val_loss: 0.3580 - val_acc: 0.9385\n",
      "Epoch 37/50\n",
      "1667/1667 [==============================] - 10s 6ms/step - loss: 0.0045 - acc: 1.0000 - val_loss: 1.1625 - val_acc: 0.7315\n",
      "Epoch 38/50\n",
      "1667/1667 [==============================] - 11s 7ms/step - loss: 0.1328 - acc: 0.9778 - val_loss: 0.3728 - val_acc: 0.9357\n",
      "Epoch 39/50\n",
      "1667/1667 [==============================] - 11s 7ms/step - loss: 0.0044 - acc: 1.0000 - val_loss: 0.3676 - val_acc: 0.9427\n",
      "Epoch 40/50\n",
      "1667/1667 [==============================] - 10s 6ms/step - loss: 0.0035 - acc: 1.0000 - val_loss: 0.6569 - val_acc: 0.8406\n",
      "Epoch 41/50\n",
      "1667/1667 [==============================] - 11s 7ms/step - loss: 0.2045 - acc: 0.9766 - val_loss: 0.3498 - val_acc: 0.9413\n",
      "Epoch 42/50\n",
      "1667/1667 [==============================] - 11s 7ms/step - loss: 0.0037 - acc: 1.0000 - val_loss: 0.3432 - val_acc: 0.9455\n",
      "Epoch 43/50\n",
      "1667/1667 [==============================] - 10s 6ms/step - loss: 0.0030 - acc: 1.0000 - val_loss: 0.4856 - val_acc: 0.8965\n",
      "Epoch 44/50\n",
      "1667/1667 [==============================] - 10s 6ms/step - loss: 0.1252 - acc: 0.9730 - val_loss: 0.3651 - val_acc: 0.9385\n",
      "Epoch 45/50\n",
      "1667/1667 [==============================] - 11s 7ms/step - loss: 0.0050 - acc: 1.0000 - val_loss: 0.3477 - val_acc: 0.9427\n",
      "Epoch 46/50\n",
      "1667/1667 [==============================] - 11s 6ms/step - loss: 0.0031 - acc: 1.0000 - val_loss: 0.5014 - val_acc: 0.8839\n",
      "Epoch 47/50\n",
      "1667/1667 [==============================] - 11s 6ms/step - loss: 0.0721 - acc: 0.9868 - val_loss: 0.3505 - val_acc: 0.9385\n",
      "Epoch 48/50\n",
      "1667/1667 [==============================] - 10s 6ms/step - loss: 0.0027 - acc: 1.0000 - val_loss: 0.3461 - val_acc: 0.9385\n",
      "Epoch 49/50\n",
      "1667/1667 [==============================] - 10s 6ms/step - loss: 0.0021 - acc: 1.0000 - val_loss: 0.3371 - val_acc: 0.9469\n",
      "Epoch 50/50\n",
      "1667/1667 [==============================] - 11s 6ms/step - loss: 0.0015 - acc: 1.0000 - val_loss: 0.4068 - val_acc: 0.9413\n"
     ]
    },
    {
     "data": {
      "text/plain": [
       "<keras.callbacks.History at 0x1a2c6f0240>"
      ]
     },
     "execution_count": 21,
     "metadata": {},
     "output_type": "execute_result"
    }
   ],
   "source": [
    "model.fit(X_train, y_train_onehot_encoded, batch_size=128,\n",
    "          epochs=50, verbose=1, validation_split=0.3)"
   ]
  },
  {
   "cell_type": "code",
   "execution_count": 22,
   "metadata": {},
   "outputs": [
    {
     "name": "stdout",
     "output_type": "stream",
     "text": [
      "1022/1022 [==============================] - 2s 2ms/step\n"
     ]
    },
    {
     "data": {
      "text/plain": [
       "[0.26705302254327823, 0.948140900428981]"
      ]
     },
     "execution_count": 22,
     "metadata": {},
     "output_type": "execute_result"
    }
   ],
   "source": [
    "model.evaluate(X_test, y_test_onehot_encoded)"
   ]
  },
  {
   "cell_type": "code",
   "execution_count": 27,
   "metadata": {},
   "outputs": [],
   "source": [
    "y_pred = model.predict(X_test)"
   ]
  },
  {
   "cell_type": "code",
   "execution_count": 28,
   "metadata": {},
   "outputs": [
    {
     "data": {
      "text/plain": [
       "array([13,  2,  0])"
      ]
     },
     "execution_count": 28,
     "metadata": {},
     "output_type": "execute_result"
    }
   ],
   "source": [
    "np.argmax(y_pred[-3:], axis=1)"
   ]
  },
  {
   "cell_type": "code",
   "execution_count": 29,
   "metadata": {},
   "outputs": [],
   "source": [
    "y_pred = model.predict(X_train)"
   ]
  },
  {
   "cell_type": "code",
   "execution_count": 30,
   "metadata": {},
   "outputs": [
    {
     "data": {
      "text/plain": [
       "array([0, 0, 0, 0, 4, 0, 0])"
      ]
     },
     "execution_count": 30,
     "metadata": {},
     "output_type": "execute_result"
    }
   ],
   "source": [
    "np.argmax(y_pred[-7:], axis=1)"
   ]
  }
 ],
 "metadata": {
  "kernelspec": {
   "display_name": "Python 3",
   "language": "python",
   "name": "python3"
  },
  "language_info": {
   "codemirror_mode": {
    "name": "ipython",
    "version": 3
   },
   "file_extension": ".py",
   "mimetype": "text/x-python",
   "name": "python",
   "nbconvert_exporter": "python",
   "pygments_lexer": "ipython3",
   "version": "3.6.6"
  }
 },
 "nbformat": 4,
 "nbformat_minor": 4
}

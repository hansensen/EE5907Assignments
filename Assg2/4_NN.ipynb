{
 "cells": [
  {
   "cell_type": "markdown",
   "metadata": {},
   "source": [
    "# Neural Networks"
   ]
  },
  {
   "cell_type": "markdown",
   "metadata": {},
   "source": [
    "Read the documentation for training a simple convolutional neural network (ref. http: //www.vlfeat.org/matconvnet/training/). Train a CNN with two convolutional layers and one fully connected layer, with the architecture specified as follows: number of nodes: 20-50-500-21. The number of the nodes in the last layer is fixed as 21 as we are per- forming 21-category (20 CMU PIE faces plus 1 for yourself) classification. Convolutional kernel sizes are set as 5. Each convolutional layer is followed by a max pooling layer with a kernel size of 2 and stride of 2. The fully connected layer is followed by ReLU. Train the network and report the final classification performance."
   ]
  },
  {
   "cell_type": "markdown",
   "metadata": {},
   "source": [
    "### Read all the images"
   ]
  },
  {
   "cell_type": "code",
   "execution_count": 1,
   "metadata": {},
   "outputs": [],
   "source": [
    "import numpy as np\n",
    "import os\n",
    "import matplotlib.pyplot as plt\n",
    "%matplotlib inline\n",
    "from mpl_toolkits import mplot3d"
   ]
  },
  {
   "cell_type": "code",
   "execution_count": 2,
   "metadata": {},
   "outputs": [],
   "source": [
    "def read_images():\n",
    "    dir='PIE'\n",
    "    PIE=os.listdir(dir)\n",
    "    all_img = []\n",
    "    img_folders=[dir+'/' + photo for photo in PIE]\n",
    "    selected_subjects = np.random.choice(range(len(img_folders)), 20, replace=False)\n",
    "    \n",
    "    selected_sub_folders = [img_folders[index] for index in selected_subjects]\n",
    "    print('Selected Subjects:')\n",
    "    print(selected_sub_folders)\n",
    "\n",
    "    for img_dir in selected_sub_folders:\n",
    "        img_path=os.listdir(img_dir)\n",
    "        img_dir_index=[img_dir+'/' + photo for photo in img_path]\n",
    "        all_img.append(img_dir_index)\n",
    "\n",
    "    flat_list = []\n",
    "    for sublist in all_img:\n",
    "        for item in sublist:\n",
    "            flat_list.append(item)\n",
    "    \n",
    "    images = np.array([plt.imread(image) for image in flat_list], dtype=np.int16)\n",
    "    labels = np.zeros((len(images)))\n",
    "\n",
    "    for i, path in enumerate(flat_list):\n",
    "        labels[i] = path.split('/')[1]\n",
    "    return images, labels"
   ]
  },
  {
   "cell_type": "code",
   "execution_count": 3,
   "metadata": {},
   "outputs": [],
   "source": [
    "def read_my_images():\n",
    "    my_img_path = 'my_images'\n",
    "    img_list=os.listdir(my_img_path)\n",
    "    print(img_list)\n",
    "    my_images = np.array([plt.imread(my_img_path + '/' + image) for image in img_list], dtype=np.int16)\n",
    "    my_labels = np.full((10), 69)\n",
    "    return my_images, my_labels"
   ]
  },
  {
   "cell_type": "code",
   "execution_count": 4,
   "metadata": {},
   "outputs": [
    {
     "name": "stdout",
     "output_type": "stream",
     "text": [
      "Selected Subjects:\n",
      "['PIE/40', 'PIE/16', 'PIE/51', 'PIE/3', 'PIE/7', 'PIE/37', 'PIE/21', 'PIE/23', 'PIE/19', 'PIE/63', 'PIE/14', 'PIE/55', 'PIE/54', 'PIE/68', 'PIE/50', 'PIE/9', 'PIE/6', 'PIE/12', 'PIE/18', 'PIE/36']\n"
     ]
    }
   ],
   "source": [
    "images, labels = read_images()\n",
    "n_samples, image_size, _ = images.shape\n",
    "n_features = image_size * image_size"
   ]
  },
  {
   "cell_type": "code",
   "execution_count": 5,
   "metadata": {},
   "outputs": [
    {
     "name": "stdout",
     "output_type": "stream",
     "text": [
      "['8.jpg', '9.jpg', '4.jpg', '5.jpg', '7.jpg', '6.jpg', '2.jpg', '3.jpg', '1.jpg', '0.jpg']\n"
     ]
    }
   ],
   "source": [
    "my_images, my_labels = read_my_images()"
   ]
  },
  {
   "cell_type": "code",
   "execution_count": 6,
   "metadata": {},
   "outputs": [
    {
     "data": {
      "text/plain": [
       "(20,)"
      ]
     },
     "execution_count": 6,
     "metadata": {},
     "output_type": "execute_result"
    }
   ],
   "source": [
    "np.unique(labels).shape"
   ]
  },
  {
   "cell_type": "markdown",
   "metadata": {},
   "source": [
    "### Randomly select 500 images"
   ]
  },
  {
   "cell_type": "code",
   "execution_count": 7,
   "metadata": {},
   "outputs": [],
   "source": [
    "def select_images(images, labels, select_num):\n",
    "    num_images = len(images)\n",
    "    np.random.seed(99)\n",
    "    if select_num == len(images):\n",
    "        return images.reshape([select_num, n_features]), labels\n",
    "    rand_images_list = np.random.randint(0, num_images, select_num)\n",
    "    X = images[rand_images_list].reshape([select_num, n_features])\n",
    "    y = labels[rand_images_list]\n",
    "    return X, y"
   ]
  },
  {
   "cell_type": "code",
   "execution_count": 8,
   "metadata": {},
   "outputs": [],
   "source": [
    "X, y = select_images(images, labels, 500)"
   ]
  },
  {
   "cell_type": "code",
   "execution_count": 9,
   "metadata": {},
   "outputs": [
    {
     "data": {
      "text/plain": [
       "(20,)"
      ]
     },
     "execution_count": 9,
     "metadata": {},
     "output_type": "execute_result"
    }
   ],
   "source": [
    "np.unique(labels).shape"
   ]
  },
  {
   "cell_type": "markdown",
   "metadata": {},
   "source": [
    "## Convolutional Neural Network"
   ]
  },
  {
   "cell_type": "code",
   "execution_count": 10,
   "metadata": {},
   "outputs": [
    {
     "name": "stderr",
     "output_type": "stream",
     "text": [
      "Using TensorFlow backend.\n",
      "/Users/eugenehan/opt/anaconda3/envs/ztdl/lib/python3.7/site-packages/tensorflow/python/framework/dtypes.py:526: FutureWarning: Passing (type, 1) or '1type' as a synonym of type is deprecated; in a future version of numpy, it will be understood as (type, (1,)) / '(1,)type'.\n",
      "  _np_qint8 = np.dtype([(\"qint8\", np.int8, 1)])\n",
      "/Users/eugenehan/opt/anaconda3/envs/ztdl/lib/python3.7/site-packages/tensorflow/python/framework/dtypes.py:527: FutureWarning: Passing (type, 1) or '1type' as a synonym of type is deprecated; in a future version of numpy, it will be understood as (type, (1,)) / '(1,)type'.\n",
      "  _np_quint8 = np.dtype([(\"quint8\", np.uint8, 1)])\n",
      "/Users/eugenehan/opt/anaconda3/envs/ztdl/lib/python3.7/site-packages/tensorflow/python/framework/dtypes.py:528: FutureWarning: Passing (type, 1) or '1type' as a synonym of type is deprecated; in a future version of numpy, it will be understood as (type, (1,)) / '(1,)type'.\n",
      "  _np_qint16 = np.dtype([(\"qint16\", np.int16, 1)])\n",
      "/Users/eugenehan/opt/anaconda3/envs/ztdl/lib/python3.7/site-packages/tensorflow/python/framework/dtypes.py:529: FutureWarning: Passing (type, 1) or '1type' as a synonym of type is deprecated; in a future version of numpy, it will be understood as (type, (1,)) / '(1,)type'.\n",
      "  _np_quint16 = np.dtype([(\"quint16\", np.uint16, 1)])\n",
      "/Users/eugenehan/opt/anaconda3/envs/ztdl/lib/python3.7/site-packages/tensorflow/python/framework/dtypes.py:530: FutureWarning: Passing (type, 1) or '1type' as a synonym of type is deprecated; in a future version of numpy, it will be understood as (type, (1,)) / '(1,)type'.\n",
      "  _np_qint32 = np.dtype([(\"qint32\", np.int32, 1)])\n",
      "/Users/eugenehan/opt/anaconda3/envs/ztdl/lib/python3.7/site-packages/tensorflow/python/framework/dtypes.py:535: FutureWarning: Passing (type, 1) or '1type' as a synonym of type is deprecated; in a future version of numpy, it will be understood as (type, (1,)) / '(1,)type'.\n",
      "  np_resource = np.dtype([(\"resource\", np.ubyte, 1)])\n"
     ]
    }
   ],
   "source": [
    "from keras.models import Sequential\n",
    "from keras.layers import Dense, Conv2D, MaxPool2D, Flatten\n",
    "from keras import optimizers\n",
    "import keras.backend as K"
   ]
  },
  {
   "cell_type": "code",
   "execution_count": 11,
   "metadata": {},
   "outputs": [],
   "source": [
    "X, y = select_images(images, labels, n_samples)"
   ]
  },
  {
   "cell_type": "code",
   "execution_count": 12,
   "metadata": {},
   "outputs": [],
   "source": [
    "X = X.reshape(-1, image_size, image_size, 1)\n",
    "my_images = my_images.reshape(-1, image_size, image_size, 1)"
   ]
  },
  {
   "cell_type": "code",
   "execution_count": 13,
   "metadata": {},
   "outputs": [],
   "source": [
    "from sklearn.model_selection import train_test_split\n",
    "X_train, X_test, y_train, y_test = train_test_split(X, y, test_size=0.3)"
   ]
  },
  {
   "cell_type": "code",
   "execution_count": 14,
   "metadata": {},
   "outputs": [
    {
     "data": {
      "text/plain": [
       "(2380, 32, 32, 1)"
      ]
     },
     "execution_count": 14,
     "metadata": {},
     "output_type": "execute_result"
    }
   ],
   "source": [
    "X_train.shape"
   ]
  },
  {
   "cell_type": "code",
   "execution_count": 15,
   "metadata": {},
   "outputs": [],
   "source": [
    "my_img_train = np.random.choice(range(10), 7, replace=False)\n",
    "my_img_test = np.delete(np.arange(0,10), my_img_train)"
   ]
  },
  {
   "cell_type": "code",
   "execution_count": 16,
   "metadata": {},
   "outputs": [],
   "source": [
    "X_train_self = my_images[my_img_train]\n",
    "X_test_self = my_images[my_img_test]\n",
    "y_train_self = my_labels[my_img_train]\n",
    "y_test_self = my_labels[my_img_test]"
   ]
  },
  {
   "cell_type": "code",
   "execution_count": 17,
   "metadata": {},
   "outputs": [],
   "source": [
    "X_train = np.concatenate((X_train, X_train_self), axis=0)\n",
    "X_test = np.concatenate((X_test, X_test_self), axis=0)\n",
    "y_train = np.concatenate((y_train, y_train_self), axis=0)\n",
    "y_test = np.concatenate((y_test, y_test_self), axis=0)"
   ]
  },
  {
   "cell_type": "code",
   "execution_count": 18,
   "metadata": {},
   "outputs": [
    {
     "name": "stderr",
     "output_type": "stream",
     "text": [
      "/Users/eugenehan/opt/anaconda3/envs/ztdl/lib/python3.7/site-packages/sklearn/preprocessing/_encoders.py:415: FutureWarning: The handling of integer data will change in version 0.22. Currently, the categories are determined based on the range [0, max(values)], while in the future they will be determined based on the unique values.\n",
      "If you want the future behaviour and silence this warning, you can specify \"categories='auto'\".\n",
      "In case you used a LabelEncoder before this OneHotEncoder to convert the categories to integers, then you can now use the OneHotEncoder directly.\n",
      "  warnings.warn(msg, FutureWarning)\n",
      "/Users/eugenehan/opt/anaconda3/envs/ztdl/lib/python3.7/site-packages/sklearn/preprocessing/_encoders.py:415: FutureWarning: The handling of integer data will change in version 0.22. Currently, the categories are determined based on the range [0, max(values)], while in the future they will be determined based on the unique values.\n",
      "If you want the future behaviour and silence this warning, you can specify \"categories='auto'\".\n",
      "In case you used a LabelEncoder before this OneHotEncoder to convert the categories to integers, then you can now use the OneHotEncoder directly.\n",
      "  warnings.warn(msg, FutureWarning)\n"
     ]
    }
   ],
   "source": [
    "# binary encode\n",
    "from sklearn.preprocessing import OneHotEncoder\n",
    "onehot_encoder = OneHotEncoder(sparse=False)\n",
    "y_train_reshaped = y_train.reshape(len(y_train), 1)\n",
    "y_train_onehot_encoded = onehot_encoder.fit_transform(y_train_reshaped)\n",
    "y_test_reshaped = y_test.reshape(len(y_test), 1)\n",
    "y_test_onehot_encoded = onehot_encoder.fit_transform(y_test_reshaped)"
   ]
  },
  {
   "cell_type": "code",
   "execution_count": 19,
   "metadata": {},
   "outputs": [
    {
     "name": "stdout",
     "output_type": "stream",
     "text": [
      "WARNING:tensorflow:From /Users/eugenehan/opt/anaconda3/envs/ztdl/lib/python3.7/site-packages/tensorflow/python/framework/op_def_library.py:263: colocate_with (from tensorflow.python.framework.ops) is deprecated and will be removed in a future version.\n",
      "Instructions for updating:\n",
      "Colocations handled automatically by placer.\n"
     ]
    }
   ],
   "source": [
    "K.clear_session()\n",
    "\n",
    "model = Sequential()\n",
    "\n",
    "model.add(Conv2D(20, (5, 5), activation='relu', input_shape=(image_size, image_size, 1)))\n",
    "model.add(MaxPool2D(pool_size=(2, 2)))\n",
    "\n",
    "model.add(Conv2D(50, (5, 5), activation='relu'))\n",
    "model.add(MaxPool2D(pool_size=(2, 2)))\n",
    "\n",
    "model.add(Flatten())\n",
    "\n",
    "model.add(Dense(500, activation='relu'))\n",
    "\n",
    "model.add(Dense(21, activation='softmax'))\n",
    "\n",
    "model.compile(loss='categorical_crossentropy',\n",
    "              optimizer=optimizers.RMSprop(lr=1e-4),  \n",
    "              metrics=['accuracy'])"
   ]
  },
  {
   "cell_type": "code",
   "execution_count": 20,
   "metadata": {},
   "outputs": [
    {
     "name": "stdout",
     "output_type": "stream",
     "text": [
      "Model: \"sequential_1\"\n",
      "_________________________________________________________________\n",
      "Layer (type)                 Output Shape              Param #   \n",
      "=================================================================\n",
      "conv2d_1 (Conv2D)            (None, 28, 28, 20)        520       \n",
      "_________________________________________________________________\n",
      "max_pooling2d_1 (MaxPooling2 (None, 14, 14, 20)        0         \n",
      "_________________________________________________________________\n",
      "conv2d_2 (Conv2D)            (None, 10, 10, 50)        25050     \n",
      "_________________________________________________________________\n",
      "max_pooling2d_2 (MaxPooling2 (None, 5, 5, 50)          0         \n",
      "_________________________________________________________________\n",
      "flatten_1 (Flatten)          (None, 1250)              0         \n",
      "_________________________________________________________________\n",
      "dense_1 (Dense)              (None, 500)               625500    \n",
      "_________________________________________________________________\n",
      "dense_2 (Dense)              (None, 21)                10521     \n",
      "=================================================================\n",
      "Total params: 661,591\n",
      "Trainable params: 661,591\n",
      "Non-trainable params: 0\n",
      "_________________________________________________________________\n"
     ]
    }
   ],
   "source": [
    "model.summary()"
   ]
  },
  {
   "cell_type": "code",
   "execution_count": 21,
   "metadata": {},
   "outputs": [
    {
     "name": "stdout",
     "output_type": "stream",
     "text": [
      "WARNING:tensorflow:From /Users/eugenehan/opt/anaconda3/envs/ztdl/lib/python3.7/site-packages/tensorflow/python/ops/math_ops.py:3066: to_int32 (from tensorflow.python.ops.math_ops) is deprecated and will be removed in a future version.\n",
      "Instructions for updating:\n",
      "Use tf.cast instead.\n",
      "Train on 1670 samples, validate on 717 samples\n",
      "Epoch 1/50\n",
      "1670/1670 [==============================] - 6s 3ms/step - loss: 12.2937 - acc: 0.0629 - val_loss: 7.2715 - val_acc: 0.0781\n",
      "Epoch 2/50\n",
      "1670/1670 [==============================] - 5s 3ms/step - loss: 4.5904 - acc: 0.1707 - val_loss: 4.9105 - val_acc: 0.1646\n",
      "Epoch 3/50\n",
      "1670/1670 [==============================] - 5s 3ms/step - loss: 3.0532 - acc: 0.2886 - val_loss: 5.0071 - val_acc: 0.1743\n",
      "Epoch 4/50\n",
      "1670/1670 [==============================] - 4s 3ms/step - loss: 2.1237 - acc: 0.4359 - val_loss: 4.6480 - val_acc: 0.2064\n",
      "Epoch 5/50\n",
      "1670/1670 [==============================] - 5s 3ms/step - loss: 1.6496 - acc: 0.5533 - val_loss: 3.4336 - val_acc: 0.2789\n",
      "Epoch 6/50\n",
      "1670/1670 [==============================] - 4s 3ms/step - loss: 1.2307 - acc: 0.6545 - val_loss: 4.2232 - val_acc: 0.1450\n",
      "Epoch 7/50\n",
      "1670/1670 [==============================] - 4s 3ms/step - loss: 1.0809 - acc: 0.7228 - val_loss: 1.7423 - val_acc: 0.5579\n",
      "Epoch 8/50\n",
      "1670/1670 [==============================] - 4s 3ms/step - loss: 0.7524 - acc: 0.8036 - val_loss: 1.2138 - val_acc: 0.6695\n",
      "Epoch 9/50\n",
      "1670/1670 [==============================] - 4s 3ms/step - loss: 0.4844 - acc: 0.8743 - val_loss: 1.7364 - val_acc: 0.5481\n",
      "Epoch 10/50\n",
      "1670/1670 [==============================] - 4s 3ms/step - loss: 0.4954 - acc: 0.8701 - val_loss: 5.5570 - val_acc: 0.2106\n",
      "Epoch 11/50\n",
      "1670/1670 [==============================] - 4s 3ms/step - loss: 0.6905 - acc: 0.8826 - val_loss: 1.4455 - val_acc: 0.6360\n",
      "Epoch 12/50\n",
      "1670/1670 [==============================] - 4s 3ms/step - loss: 0.2669 - acc: 0.9353 - val_loss: 1.2499 - val_acc: 0.6611\n",
      "Epoch 13/50\n",
      "1670/1670 [==============================] - 5s 3ms/step - loss: 0.2331 - acc: 0.9497 - val_loss: 2.5715 - val_acc: 0.4630\n",
      "Epoch 14/50\n",
      "1670/1670 [==============================] - 4s 3ms/step - loss: 0.4423 - acc: 0.9180 - val_loss: 0.8953 - val_acc: 0.8033\n",
      "Epoch 15/50\n",
      "1670/1670 [==============================] - 5s 3ms/step - loss: 0.1382 - acc: 0.9689 - val_loss: 0.6244 - val_acc: 0.8550\n",
      "Epoch 16/50\n",
      "1670/1670 [==============================] - 4s 3ms/step - loss: 0.1852 - acc: 0.9623 - val_loss: 0.4657 - val_acc: 0.9079\n",
      "Epoch 17/50\n",
      "1670/1670 [==============================] - 4s 3ms/step - loss: 0.1193 - acc: 0.9814 - val_loss: 2.9562 - val_acc: 0.5174\n",
      "Epoch 18/50\n",
      "1670/1670 [==============================] - 5s 3ms/step - loss: 0.2692 - acc: 0.9551 - val_loss: 0.4529 - val_acc: 0.9066\n",
      "Epoch 19/50\n",
      "1670/1670 [==============================] - 4s 3ms/step - loss: 0.0483 - acc: 0.9964 - val_loss: 0.4458 - val_acc: 0.9177\n",
      "Epoch 20/50\n",
      "1670/1670 [==============================] - 4s 3ms/step - loss: 0.0525 - acc: 0.9946 - val_loss: 1.0230 - val_acc: 0.8494\n",
      "Epoch 21/50\n",
      "1670/1670 [==============================] - 4s 3ms/step - loss: 0.2040 - acc: 0.9653 - val_loss: 3.0844 - val_acc: 0.4435\n",
      "Epoch 22/50\n",
      "1670/1670 [==============================] - 4s 3ms/step - loss: 0.2768 - acc: 0.9491 - val_loss: 0.3871 - val_acc: 0.9303\n",
      "Epoch 23/50\n",
      "1670/1670 [==============================] - 4s 3ms/step - loss: 0.0252 - acc: 0.9988 - val_loss: 0.3562 - val_acc: 0.9317\n",
      "Epoch 24/50\n",
      "1670/1670 [==============================] - 4s 3ms/step - loss: 0.0192 - acc: 0.9994 - val_loss: 1.9742 - val_acc: 0.6067\n",
      "Epoch 25/50\n",
      "1670/1670 [==============================] - 4s 3ms/step - loss: 0.2015 - acc: 0.9701 - val_loss: 0.4374 - val_acc: 0.9135\n",
      "Epoch 26/50\n",
      "1670/1670 [==============================] - 4s 3ms/step - loss: 0.0170 - acc: 0.9994 - val_loss: 0.3787 - val_acc: 0.9331\n",
      "Epoch 27/50\n",
      "1670/1670 [==============================] - 5s 3ms/step - loss: 0.0121 - acc: 1.0000 - val_loss: 0.6566 - val_acc: 0.8550\n",
      "Epoch 28/50\n",
      "1670/1670 [==============================] - 4s 3ms/step - loss: 0.0203 - acc: 0.9964 - val_loss: 0.4087 - val_acc: 0.9107\n",
      "Epoch 29/50\n",
      "1670/1670 [==============================] - 5s 3ms/step - loss: 0.2910 - acc: 0.9623 - val_loss: 0.3566 - val_acc: 0.9344\n",
      "Epoch 30/50\n",
      "1670/1670 [==============================] - 4s 3ms/step - loss: 0.0090 - acc: 1.0000 - val_loss: 0.3184 - val_acc: 0.9498\n",
      "Epoch 31/50\n",
      "1670/1670 [==============================] - 5s 3ms/step - loss: 0.0063 - acc: 1.0000 - val_loss: 0.3238 - val_acc: 0.9456\n",
      "Epoch 32/50\n",
      "1670/1670 [==============================] - 5s 3ms/step - loss: 0.0050 - acc: 1.0000 - val_loss: 0.3748 - val_acc: 0.9372\n",
      "Epoch 33/50\n",
      "1670/1670 [==============================] - 4s 3ms/step - loss: 0.0906 - acc: 0.9850 - val_loss: 0.3125 - val_acc: 0.9512\n",
      "Epoch 34/50\n",
      "1670/1670 [==============================] - 5s 3ms/step - loss: 0.0048 - acc: 1.0000 - val_loss: 0.4339 - val_acc: 0.9038\n",
      "Epoch 35/50\n",
      "1670/1670 [==============================] - 5s 3ms/step - loss: 0.0101 - acc: 0.9976 - val_loss: 0.3173 - val_acc: 0.9498\n",
      "Epoch 36/50\n",
      "1670/1670 [==============================] - 5s 3ms/step - loss: 0.0030 - acc: 1.0000 - val_loss: 0.3031 - val_acc: 0.9442\n",
      "Epoch 37/50\n",
      "1670/1670 [==============================] - 5s 3ms/step - loss: 0.0031 - acc: 1.0000 - val_loss: 3.2216 - val_acc: 0.5635\n",
      "Epoch 38/50\n",
      "1670/1670 [==============================] - 5s 3ms/step - loss: 0.3109 - acc: 0.9569 - val_loss: 0.3348 - val_acc: 0.9414\n",
      "Epoch 39/50\n",
      "1670/1670 [==============================] - 5s 3ms/step - loss: 0.0042 - acc: 1.0000 - val_loss: 0.3156 - val_acc: 0.9442\n",
      "Epoch 40/50\n",
      "1670/1670 [==============================] - 5s 3ms/step - loss: 0.0028 - acc: 1.0000 - val_loss: 0.3037 - val_acc: 0.9470\n",
      "Epoch 41/50\n",
      "1670/1670 [==============================] - 5s 3ms/step - loss: 0.0021 - acc: 1.0000 - val_loss: 0.2975 - val_acc: 0.9512\n",
      "Epoch 42/50\n",
      "1670/1670 [==============================] - 4s 3ms/step - loss: 0.0016 - acc: 1.0000 - val_loss: 0.3048 - val_acc: 0.9484\n",
      "Epoch 43/50\n",
      "1670/1670 [==============================] - 4s 3ms/step - loss: 0.0012 - acc: 1.0000 - val_loss: 0.4512 - val_acc: 0.9052\n",
      "Epoch 44/50\n",
      "1670/1670 [==============================] - 4s 3ms/step - loss: 0.2259 - acc: 0.9671 - val_loss: 0.2907 - val_acc: 0.9554\n",
      "Epoch 45/50\n",
      "1670/1670 [==============================] - 4s 3ms/step - loss: 0.0025 - acc: 1.0000 - val_loss: 0.2963 - val_acc: 0.9540\n",
      "Epoch 46/50\n",
      "1670/1670 [==============================] - 4s 3ms/step - loss: 0.0017 - acc: 1.0000 - val_loss: 0.3101 - val_acc: 0.9470\n",
      "Epoch 47/50\n",
      "1670/1670 [==============================] - 4s 2ms/step - loss: 0.0014 - acc: 1.0000 - val_loss: 0.3868 - val_acc: 0.9344\n",
      "Epoch 48/50\n",
      "1670/1670 [==============================] - 4s 3ms/step - loss: 0.0826 - acc: 0.9838 - val_loss: 0.3078 - val_acc: 0.9456\n",
      "Epoch 49/50\n",
      "1670/1670 [==============================] - 4s 3ms/step - loss: 0.0018 - acc: 1.0000 - val_loss: 0.3000 - val_acc: 0.9498\n",
      "Epoch 50/50\n",
      "1670/1670 [==============================] - 4s 3ms/step - loss: 0.0013 - acc: 1.0000 - val_loss: 0.2904 - val_acc: 0.9540\n"
     ]
    },
    {
     "data": {
      "text/plain": [
       "<keras.callbacks.History at 0x14a5f8410>"
      ]
     },
     "execution_count": 21,
     "metadata": {},
     "output_type": "execute_result"
    }
   ],
   "source": [
    "model.fit(X_train, y_train_onehot_encoded, batch_size=128,\n",
    "          epochs=50, verbose=1, validation_split=0.3)"
   ]
  },
  {
   "cell_type": "code",
   "execution_count": 22,
   "metadata": {},
   "outputs": [
    {
     "name": "stdout",
     "output_type": "stream",
     "text": [
      "1023/1023 [==============================] - 1s 1ms/step\n"
     ]
    },
    {
     "data": {
      "text/plain": [
       "[0.17501928151119955, 0.9657869004550684]"
      ]
     },
     "execution_count": 22,
     "metadata": {},
     "output_type": "execute_result"
    }
   ],
   "source": [
    "model.evaluate(X_test, y_test_onehot_encoded)"
   ]
  },
  {
   "cell_type": "code",
   "execution_count": 23,
   "metadata": {},
   "outputs": [],
   "source": [
    "y_pred = model.predict(X_test)"
   ]
  },
  {
   "cell_type": "code",
   "execution_count": 24,
   "metadata": {},
   "outputs": [
    {
     "data": {
      "text/plain": [
       "array([19, 19,  1])"
      ]
     },
     "execution_count": 24,
     "metadata": {},
     "output_type": "execute_result"
    }
   ],
   "source": [
    "np.argmax(y_pred[-3:], axis=1)"
   ]
  },
  {
   "cell_type": "code",
   "execution_count": 25,
   "metadata": {},
   "outputs": [],
   "source": [
    "y_pred = model.predict(X_train)"
   ]
  },
  {
   "cell_type": "code",
   "execution_count": 26,
   "metadata": {},
   "outputs": [
    {
     "data": {
      "text/plain": [
       "array([14, 14,  1, 14, 19,  5, 14])"
      ]
     },
     "execution_count": 26,
     "metadata": {},
     "output_type": "execute_result"
    }
   ],
   "source": [
    "np.argmax(y_pred[-7:], axis=1)"
   ]
  },
  {
   "cell_type": "code",
   "execution_count": null,
   "metadata": {},
   "outputs": [],
   "source": []
  }
 ],
 "metadata": {
  "kernelspec": {
   "display_name": "Python 3",
   "language": "python",
   "name": "python3"
  },
  "language_info": {
   "codemirror_mode": {
    "name": "ipython",
    "version": 3
   },
   "file_extension": ".py",
   "mimetype": "text/x-python",
   "name": "python",
   "nbconvert_exporter": "python",
   "pygments_lexer": "ipython3",
   "version": "3.7.4"
  }
 },
 "nbformat": 4,
 "nbformat_minor": 4
}

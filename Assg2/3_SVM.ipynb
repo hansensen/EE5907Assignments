{
 "cells": [
  {
   "cell_type": "markdown",
   "metadata": {},
   "source": [
    "# SVM for Classification"
   ]
  },
  {
   "cell_type": "markdown",
   "metadata": {},
   "source": [
    "Use the raw face images (vectorized) and the face vectors after PCA pre-processing (with di- mensionality of 80 and 200) as inputs to linear SVM. Try values of the penalty parameter C in {1 × 10<sup>-2</sup>, 1 × 10<sup>-1</sup>, 1}. Report the classification accuracy with different parameters and dimensions. Discuss the effect of data dimension and parameter C on the final classification accuracy."
   ]
  },
  {
   "cell_type": "markdown",
   "metadata": {},
   "source": [
    "### Read all the images"
   ]
  },
  {
   "cell_type": "code",
   "execution_count": 1,
   "metadata": {},
   "outputs": [],
   "source": [
    "import numpy as np\n",
    "import os\n",
    "import matplotlib.pyplot as plt\n",
    "%matplotlib inline\n",
    "from mpl_toolkits import mplot3d"
   ]
  },
  {
   "cell_type": "code",
   "execution_count": 2,
   "metadata": {},
   "outputs": [],
   "source": [
    "def read_images():\n",
    "    dir='PIE'\n",
    "    PIE=os.listdir(dir)\n",
    "    all_img = []\n",
    "    img_folders=[dir+'/' + photo for photo in PIE]\n",
    "    selected_subjects = np.random.choice(range(len(img_folders)), 20, replace=False)\n",
    "    \n",
    "    selected_sub_folders = [img_folders[index] for index in selected_subjects]\n",
    "    print('Selected Subjects:')\n",
    "    print(selected_sub_folders)\n",
    "\n",
    "    for img_dir in selected_sub_folders:\n",
    "        img_path=os.listdir(img_dir)\n",
    "        img_dir_index=[img_dir+'/' + photo for photo in img_path]\n",
    "        all_img.append(img_dir_index)\n",
    "\n",
    "    flat_list = []\n",
    "    for sublist in all_img:\n",
    "        for item in sublist:\n",
    "            flat_list.append(item)\n",
    "    \n",
    "    images = np.array([plt.imread(image) for image in flat_list], dtype=np.int16)\n",
    "    labels = np.zeros((len(images)))\n",
    "\n",
    "    for i, path in enumerate(flat_list):\n",
    "        labels[i] = path.split('/')[1]\n",
    "    return images, labels"
   ]
  },
  {
   "cell_type": "code",
   "execution_count": 3,
   "metadata": {},
   "outputs": [
    {
     "name": "stdout",
     "output_type": "stream",
     "text": [
      "Selected Subjects:\n",
      "['PIE/57', 'PIE/7', 'PIE/21', 'PIE/1', 'PIE/36', 'PIE/66', 'PIE/35', 'PIE/45', 'PIE/63', 'PIE/32', 'PIE/14', 'PIE/6', 'PIE/17', 'PIE/34', 'PIE/19', 'PIE/49', 'PIE/60', 'PIE/37', 'PIE/3', 'PIE/38']\n"
     ]
    }
   ],
   "source": [
    "images, labels = read_images()\n",
    "n_samples, image_size, _ = images.shape\n",
    "n_features = image_size * image_size"
   ]
  },
  {
   "cell_type": "markdown",
   "metadata": {},
   "source": [
    "### Randomly select 500 images"
   ]
  },
  {
   "cell_type": "code",
   "execution_count": 4,
   "metadata": {},
   "outputs": [],
   "source": [
    "def select_images(images, labels, select_num):\n",
    "    num_images = len(images)\n",
    "    np.random.seed(99)\n",
    "    if select_num == len(images):\n",
    "        return images.reshape([select_num, n_features]), labels\n",
    "    rand_images_list = np.random.randint(0, num_images, select_num)\n",
    "    X = images[rand_images_list].reshape([select_num, n_features])\n",
    "    y = labels[rand_images_list]\n",
    "    return X, y"
   ]
  },
  {
   "cell_type": "code",
   "execution_count": 5,
   "metadata": {},
   "outputs": [],
   "source": [
    "X, y = select_images(images, labels, n_samples)"
   ]
  },
  {
   "cell_type": "code",
   "execution_count": null,
   "metadata": {},
   "outputs": [],
   "source": []
  },
  {
   "cell_type": "markdown",
   "metadata": {},
   "source": [
    "### PCA"
   ]
  },
  {
   "cell_type": "code",
   "execution_count": 6,
   "metadata": {},
   "outputs": [],
   "source": [
    "def PCA(X):\n",
    "    mean_data = np.mean(X,axis=0)\n",
    "    centred_data = X - mean_data\n",
    "    cov_matrix = np.cov(centred_data.T)\n",
    "    [eig_val,eig_vec] = np.linalg.eig(cov_matrix)\n",
    "    projected = np.dot(eig_vec, centred_data.T)\n",
    "    return eig_val, eig_vec"
   ]
  },
  {
   "cell_type": "code",
   "execution_count": 7,
   "metadata": {},
   "outputs": [],
   "source": [
    "def get_centred_data(X):\n",
    "    mean_data = np.mean(X,axis=0)\n",
    "    centred_data = X - mean_data\n",
    "    return centred_data"
   ]
  },
  {
   "cell_type": "code",
   "execution_count": 8,
   "metadata": {},
   "outputs": [],
   "source": [
    "def get_reduced_dim_data(eig_vec, X, dim):\n",
    "    pca_vec = eig_vec[:,0:dim]\n",
    "    return np.dot(X, pca_vec)"
   ]
  },
  {
   "cell_type": "markdown",
   "metadata": {},
   "source": [
    "### Classifying the test images using the rule of nearest neighbor"
   ]
  },
  {
   "cell_type": "code",
   "execution_count": 9,
   "metadata": {},
   "outputs": [],
   "source": [
    "from sklearn.model_selection import train_test_split\n",
    "from sklearn.neighbors import KNeighborsClassifier\n",
    "from sklearn.svm import LinearSVC"
   ]
  },
  {
   "cell_type": "code",
   "execution_count": 10,
   "metadata": {},
   "outputs": [],
   "source": [
    "X, y = select_images(images, labels, n_samples)"
   ]
  },
  {
   "cell_type": "code",
   "execution_count": 11,
   "metadata": {},
   "outputs": [],
   "source": [
    "X_train, X_test, y_train, y_test = train_test_split(X, y, test_size=0.3)"
   ]
  },
  {
   "cell_type": "code",
   "execution_count": 12,
   "metadata": {},
   "outputs": [],
   "source": [
    "dimensions = [40,80,200]\n",
    "C = [pow(10,-2), pow(10,-1), 1]"
   ]
  },
  {
   "cell_type": "code",
   "execution_count": 14,
   "metadata": {},
   "outputs": [
    {
     "name": "stdout",
     "output_type": "stream",
     "text": [
      "Dimension: 40, C: 0.01\n"
     ]
    },
    {
     "name": "stderr",
     "output_type": "stream",
     "text": [
      "/Users/eugenehan/opt/anaconda3/envs/ztdl/lib/python3.7/site-packages/sklearn/svm/base.py:929: ConvergenceWarning: Liblinear failed to converge, increase the number of iterations.\n",
      "  \"the number of iterations.\", ConvergenceWarning)\n"
     ]
    },
    {
     "name": "stdout",
     "output_type": "stream",
     "text": [
      "0.5201177625122669\n",
      "Dimension: 40, C: 0.1\n"
     ]
    },
    {
     "name": "stderr",
     "output_type": "stream",
     "text": [
      "/Users/eugenehan/opt/anaconda3/envs/ztdl/lib/python3.7/site-packages/sklearn/svm/base.py:929: ConvergenceWarning: Liblinear failed to converge, increase the number of iterations.\n",
      "  \"the number of iterations.\", ConvergenceWarning)\n"
     ]
    },
    {
     "name": "stdout",
     "output_type": "stream",
     "text": [
      "0.5996074582924436\n",
      "Dimension: 40, C: 1\n"
     ]
    },
    {
     "name": "stderr",
     "output_type": "stream",
     "text": [
      "/Users/eugenehan/opt/anaconda3/envs/ztdl/lib/python3.7/site-packages/sklearn/svm/base.py:929: ConvergenceWarning: Liblinear failed to converge, increase the number of iterations.\n",
      "  \"the number of iterations.\", ConvergenceWarning)\n"
     ]
    },
    {
     "name": "stdout",
     "output_type": "stream",
     "text": [
      "0.5544651619234544\n",
      "Dimension: 80, C: 0.01\n"
     ]
    },
    {
     "name": "stderr",
     "output_type": "stream",
     "text": [
      "/Users/eugenehan/opt/anaconda3/envs/ztdl/lib/python3.7/site-packages/sklearn/svm/base.py:929: ConvergenceWarning: Liblinear failed to converge, increase the number of iterations.\n",
      "  \"the number of iterations.\", ConvergenceWarning)\n"
     ]
    },
    {
     "name": "stdout",
     "output_type": "stream",
     "text": [
      "0.8223748773307163\n",
      "Dimension: 80, C: 0.1\n"
     ]
    },
    {
     "name": "stderr",
     "output_type": "stream",
     "text": [
      "/Users/eugenehan/opt/anaconda3/envs/ztdl/lib/python3.7/site-packages/sklearn/svm/base.py:929: ConvergenceWarning: Liblinear failed to converge, increase the number of iterations.\n",
      "  \"the number of iterations.\", ConvergenceWarning)\n"
     ]
    },
    {
     "name": "stdout",
     "output_type": "stream",
     "text": [
      "0.7477919528949951\n",
      "Dimension: 80, C: 1\n"
     ]
    },
    {
     "name": "stderr",
     "output_type": "stream",
     "text": [
      "/Users/eugenehan/opt/anaconda3/envs/ztdl/lib/python3.7/site-packages/sklearn/svm/base.py:929: ConvergenceWarning: Liblinear failed to converge, increase the number of iterations.\n",
      "  \"the number of iterations.\", ConvergenceWarning)\n"
     ]
    },
    {
     "name": "stdout",
     "output_type": "stream",
     "text": [
      "0.7350343473994112\n",
      "Dimension: 200, C: 0.01\n"
     ]
    },
    {
     "name": "stderr",
     "output_type": "stream",
     "text": [
      "/Users/eugenehan/opt/anaconda3/envs/ztdl/lib/python3.7/site-packages/sklearn/svm/base.py:929: ConvergenceWarning: Liblinear failed to converge, increase the number of iterations.\n",
      "  \"the number of iterations.\", ConvergenceWarning)\n"
     ]
    },
    {
     "name": "stdout",
     "output_type": "stream",
     "text": [
      "0.9136408243375859\n",
      "Dimension: 200, C: 0.1\n"
     ]
    },
    {
     "name": "stderr",
     "output_type": "stream",
     "text": [
      "/Users/eugenehan/opt/anaconda3/envs/ztdl/lib/python3.7/site-packages/sklearn/svm/base.py:929: ConvergenceWarning: Liblinear failed to converge, increase the number of iterations.\n",
      "  \"the number of iterations.\", ConvergenceWarning)\n"
     ]
    },
    {
     "name": "stdout",
     "output_type": "stream",
     "text": [
      "0.9254170755642787\n",
      "Dimension: 200, C: 1\n",
      "0.8861629048086359\n"
     ]
    },
    {
     "name": "stderr",
     "output_type": "stream",
     "text": [
      "/Users/eugenehan/opt/anaconda3/envs/ztdl/lib/python3.7/site-packages/sklearn/svm/base.py:929: ConvergenceWarning: Liblinear failed to converge, increase the number of iterations.\n",
      "  \"the number of iterations.\", ConvergenceWarning)\n"
     ]
    }
   ],
   "source": [
    "for dim in dimensions:\n",
    "    for c in C:\n",
    "        print('Dimension: {}, C: {}'.format(dim, c))\n",
    "        # reduce the dimensionality of training data\n",
    "        eig_val, eig_vec = PCA(X_train)\n",
    "        centred_data = get_centred_data(X_train)\n",
    "        X_pca_train = get_reduced_dim_data(eig_vec, centred_data, dim).real\n",
    "\n",
    "        # reduce the dimensionality of test data\n",
    "        centred_data = get_centred_data(X_test)\n",
    "        X_pca_test = get_reduced_dim_data(eig_vec, centred_data, dim).real\n",
    "\n",
    "        # Create KNN classifier\n",
    "        clf = LinearSVC(random_state=0, C=c)\n",
    "        # Fit the classifier to the data\n",
    "        clf.fit(X_pca_train, y_train)\n",
    "        y_pred = clf.predict(X_pca_test)\n",
    "        score = clf.score(X_pca_test, y_test)\n",
    "        print(score)"
   ]
  },
  {
   "cell_type": "code",
   "execution_count": null,
   "metadata": {},
   "outputs": [],
   "source": []
  },
  {
   "cell_type": "code",
   "execution_count": null,
   "metadata": {},
   "outputs": [],
   "source": []
  }
 ],
 "metadata": {
  "kernelspec": {
   "display_name": "Python 3",
   "language": "python",
   "name": "python3"
  },
  "language_info": {
   "codemirror_mode": {
    "name": "ipython",
    "version": 3
   },
   "file_extension": ".py",
   "mimetype": "text/x-python",
   "name": "python",
   "nbconvert_exporter": "python",
   "pygments_lexer": "ipython3",
   "version": "3.7.4"
  }
 },
 "nbformat": 4,
 "nbformat_minor": 4
}

{
 "cells": [
  {
   "cell_type": "markdown",
   "metadata": {},
   "source": [
    "# SVM for Classification"
   ]
  },
  {
   "cell_type": "markdown",
   "metadata": {},
   "source": [
    "Use the raw face images (vectorized) and the face vectors after PCA pre-processing (with di- mensionality of 80 and 200) as inputs to linear SVM. Try values of the penalty parameter C in {1 × 10<sup>-2</sup>, 1 × 10<sup>-1</sup>, 1}. Report the classification accuracy with different parameters and dimensions. Discuss the effect of data dimension and parameter C on the final classification accuracy."
   ]
  },
  {
   "cell_type": "markdown",
   "metadata": {},
   "source": [
    "### Read all the images"
   ]
  },
  {
   "cell_type": "code",
   "execution_count": 1,
   "metadata": {},
   "outputs": [],
   "source": [
    "import numpy as np\n",
    "import os\n",
    "import matplotlib.pyplot as plt\n",
    "%matplotlib inline\n",
    "from mpl_toolkits import mplot3d"
   ]
  },
  {
   "cell_type": "code",
   "execution_count": 2,
   "metadata": {},
   "outputs": [],
   "source": [
    "def read_images():\n",
    "    dir='PIE'\n",
    "    PIE=os.listdir(dir)\n",
    "    all_img = []\n",
    "    img_folders=[dir+'/' + photo for photo in PIE]\n",
    "    selected_subjects = np.random.choice(range(len(img_folders)), 20, replace=False)\n",
    "    \n",
    "    selected_sub_folders = [img_folders[index] for index in selected_subjects]\n",
    "    print('Selected Subjects:')\n",
    "    print(selected_sub_folders)\n",
    "\n",
    "    for img_dir in selected_sub_folders:\n",
    "        img_path=os.listdir(img_dir)\n",
    "        img_dir_index=[img_dir+'/' + photo for photo in img_path]\n",
    "        all_img.append(img_dir_index)\n",
    "\n",
    "    flat_list = []\n",
    "    for sublist in all_img:\n",
    "        for item in sublist:\n",
    "            flat_list.append(item)\n",
    "    \n",
    "    images = np.array([plt.imread(image) for image in flat_list], dtype=np.int16)\n",
    "    labels = np.zeros((len(images)))\n",
    "\n",
    "    for i, path in enumerate(flat_list):\n",
    "        labels[i] = path.split('/')[1]\n",
    "    return images, labels"
   ]
  },
  {
   "cell_type": "code",
   "execution_count": 3,
   "metadata": {},
   "outputs": [],
   "source": [
    "def read_my_images():\n",
    "    my_img_path = 'my_images'\n",
    "    img_list=os.listdir(my_img_path)\n",
    "    print(img_list)\n",
    "    my_images = np.array([plt.imread(my_img_path + '/' + image) for image in img_list], dtype=np.int16)\n",
    "    my_labels = np.full((10), 69)\n",
    "    return my_images, my_labels"
   ]
  },
  {
   "cell_type": "code",
   "execution_count": 4,
   "metadata": {},
   "outputs": [
    {
     "name": "stdout",
     "output_type": "stream",
     "text": [
      "Selected Subjects:\n",
      "['PIE/59', 'PIE/28', 'PIE/54', 'PIE/2', 'PIE/39', 'PIE/32', 'PIE/17', 'PIE/4', 'PIE/35', 'PIE/15', 'PIE/11', 'PIE/47', 'PIE/31', 'PIE/49', 'PIE/44', 'PIE/29', 'PIE/50', 'PIE/24', 'PIE/10', 'PIE/16']\n"
     ]
    }
   ],
   "source": [
    "images, labels = read_images()\n",
    "n_samples, image_size, _ = images.shape\n",
    "n_features = image_size * image_size"
   ]
  },
  {
   "cell_type": "code",
   "execution_count": 5,
   "metadata": {},
   "outputs": [
    {
     "name": "stdout",
     "output_type": "stream",
     "text": [
      "['8.jpg', '9.jpg', '4.jpg', '5.jpg', '7.jpg', '6.jpg', '2.jpg', '3.jpg', '1.jpg', '0.jpg']\n"
     ]
    }
   ],
   "source": [
    "my_images, my_labels = read_my_images()"
   ]
  },
  {
   "cell_type": "markdown",
   "metadata": {},
   "source": [
    "### Randomly select 500 images"
   ]
  },
  {
   "cell_type": "code",
   "execution_count": 6,
   "metadata": {},
   "outputs": [],
   "source": [
    "def select_images(images, labels, select_num):\n",
    "    num_images = len(images)\n",
    "    np.random.seed(99)\n",
    "    if select_num == len(images):\n",
    "        return images.reshape([select_num, n_features]), labels\n",
    "    rand_images_list = np.random.randint(0, num_images, select_num)\n",
    "    X = images[rand_images_list].reshape([select_num, n_features])\n",
    "    y = labels[rand_images_list]\n",
    "    return X, y"
   ]
  },
  {
   "cell_type": "code",
   "execution_count": 7,
   "metadata": {},
   "outputs": [],
   "source": [
    "X, y = select_images(images, labels, n_samples)"
   ]
  },
  {
   "cell_type": "markdown",
   "metadata": {},
   "source": [
    "### PCA"
   ]
  },
  {
   "cell_type": "code",
   "execution_count": 8,
   "metadata": {},
   "outputs": [],
   "source": [
    "def PCA(X):\n",
    "    mean_data = np.mean(X,axis=0)\n",
    "    centred_data = X - mean_data\n",
    "    cov_matrix = np.cov(centred_data.T)\n",
    "    [eig_val,eig_vec] = np.linalg.eig(cov_matrix)\n",
    "    projected = np.dot(eig_vec, centred_data.T)\n",
    "    return eig_val, eig_vec"
   ]
  },
  {
   "cell_type": "code",
   "execution_count": 9,
   "metadata": {},
   "outputs": [],
   "source": [
    "def get_centred_data(X):\n",
    "    mean_data = np.mean(X,axis=0)\n",
    "    centred_data = X - mean_data\n",
    "    return centred_data"
   ]
  },
  {
   "cell_type": "code",
   "execution_count": 10,
   "metadata": {},
   "outputs": [],
   "source": [
    "def get_reduced_dim_data(eig_vec, X, dim):\n",
    "    pca_vec = eig_vec[:,0:dim]\n",
    "    return np.dot(X, pca_vec)"
   ]
  },
  {
   "cell_type": "markdown",
   "metadata": {},
   "source": [
    "### Classifying the test images using the rule of nearest neighbor"
   ]
  },
  {
   "cell_type": "code",
   "execution_count": 11,
   "metadata": {},
   "outputs": [],
   "source": [
    "from sklearn.model_selection import train_test_split\n",
    "from sklearn.neighbors import KNeighborsClassifier\n",
    "from sklearn.svm import LinearSVC"
   ]
  },
  {
   "cell_type": "code",
   "execution_count": 12,
   "metadata": {},
   "outputs": [],
   "source": [
    "X, y = select_images(images, labels, n_samples)"
   ]
  },
  {
   "cell_type": "code",
   "execution_count": 13,
   "metadata": {},
   "outputs": [],
   "source": [
    "X_train, X_test, y_train, y_test = train_test_split(X, y, test_size=0.3)"
   ]
  },
  {
   "cell_type": "code",
   "execution_count": 14,
   "metadata": {},
   "outputs": [],
   "source": [
    "my_img_train = np.random.choice(range(10), 7, replace=False)\n",
    "my_img_test = np.delete(np.arange(0,10), my_img_train)"
   ]
  },
  {
   "cell_type": "code",
   "execution_count": 15,
   "metadata": {},
   "outputs": [],
   "source": [
    "X_train_self = my_images[my_img_train].reshape(7,1024)\n",
    "X_test_self = my_images[my_img_test].reshape(3,1024)\n",
    "y_train_self = my_labels[my_img_train]\n",
    "y_test_self = my_labels[my_img_test]"
   ]
  },
  {
   "cell_type": "code",
   "execution_count": 16,
   "metadata": {},
   "outputs": [],
   "source": [
    "X_train = np.concatenate((X_train, X_train_self), axis=0)\n",
    "X_test = np.concatenate((X_test, X_test_self), axis=0)\n",
    "y_train = np.concatenate((y_train, y_train_self), axis=0)\n",
    "y_test = np.concatenate((y_test, y_test_self), axis=0)"
   ]
  },
  {
   "cell_type": "code",
   "execution_count": 17,
   "metadata": {},
   "outputs": [],
   "source": [
    "dimensions = [40,80,200]\n",
    "C = [pow(10,-2), pow(10,-1), 1]"
   ]
  },
  {
   "cell_type": "code",
   "execution_count": 18,
   "metadata": {},
   "outputs": [
    {
     "name": "stdout",
     "output_type": "stream",
     "text": [
      "Dimension: 40, C: 0.01\n",
      "[17. 17. 17.]\n",
      "[69. 69. 69.]\n",
      "0.5288367546432062\n",
      "Dimension: 40, C: 0.1\n",
      "[32. 39. 32.]\n",
      "[69. 69. 69.]\n",
      "0.48484848484848486\n",
      "Dimension: 40, C: 1\n",
      "[32. 39. 32.]\n",
      "[69. 69. 69.]\n",
      "0.4858260019550342\n",
      "Dimension: 80, C: 0.01\n",
      "[24. 17. 49.]\n",
      "[69. 69. 69.]\n",
      "0.7429130009775171\n",
      "Dimension: 80, C: 0.1\n",
      "[17. 17. 49.]\n",
      "[69. 69. 69.]\n",
      "0.6871945259042033\n",
      "Dimension: 80, C: 1\n",
      "[24. 17. 24.]\n",
      "[69. 69. 69.]\n",
      "0.64613880742913\n",
      "Dimension: 200, C: 0.01\n",
      "[17. 17. 28.]\n",
      "[69. 69. 69.]\n",
      "0.8826979472140762\n",
      "Dimension: 200, C: 0.1\n",
      "[24. 24. 28.]\n",
      "[69. 69. 69.]\n",
      "0.8836754643206256\n",
      "Dimension: 200, C: 1\n",
      "[17. 17. 59.]\n",
      "[69. 69. 69.]\n",
      "0.844574780058651\n"
     ]
    }
   ],
   "source": [
    "for dim in dimensions:\n",
    "    for c in C:\n",
    "        print('Dimension: {}, C: {}'.format(dim, c))\n",
    "        # reduce the dimensionality of training data\n",
    "        eig_val, eig_vec = PCA(X_train)\n",
    "        centred_data = get_centred_data(X_train)\n",
    "        X_pca_train = get_reduced_dim_data(eig_vec, centred_data, dim).real\n",
    "\n",
    "        # reduce the dimensionality of test data\n",
    "        centred_data = get_centred_data(X_test)\n",
    "        X_pca_test = get_reduced_dim_data(eig_vec, centred_data, dim).real\n",
    "\n",
    "        # Create KNN classifier\n",
    "        clf = LinearSVC(random_state=0, C=c)\n",
    "        # Fit the classifier to the data\n",
    "        clf.fit(X_pca_train, y_train)\n",
    "        y_pred = clf.predict(X_pca_test)\n",
    "        score = clf.score(X_pca_test, y_test)\n",
    "        print(y_pred[-3:])\n",
    "        print(y_test[-3:])\n",
    "        print(score)"
   ]
  }
 ],
 "metadata": {
  "kernelspec": {
   "display_name": "Python 3",
   "language": "python",
   "name": "python3"
  },
  "language_info": {
   "codemirror_mode": {
    "name": "ipython",
    "version": 3
   },
   "file_extension": ".py",
   "mimetype": "text/x-python",
   "name": "python",
   "nbconvert_exporter": "python",
   "pygments_lexer": "ipython3",
   "version": "3.6.6"
  }
 },
 "nbformat": 4,
 "nbformat_minor": 4
}

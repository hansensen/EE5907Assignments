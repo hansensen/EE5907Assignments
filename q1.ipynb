{
 "cells": [
  {
   "cell_type": "code",
   "execution_count": 22,
   "metadata": {},
   "outputs": [],
   "source": [
    "import scipy.io as sio\n",
    "import numpy as np\n",
    "from sklearn import preprocessing\n",
    "import DataLoader as dl\n",
    "\n",
    "def loadData(fileName):\n",
    "\tmat = sio.loadmat(fileName)\n",
    "\txtest = mat['Xtest']\n",
    "\txtrain = mat['Xtrain']\n",
    "\tytest = mat['ytest']\n",
    "\tytrain = mat['ytrain']\n",
    "\treturn xtrain, ytrain, xtest, ytest\n",
    "\n",
    "# Binarization preprocessing\n",
    "def binarization(a):\n",
    "\tbinarizer = preprocessing.Binarizer().fit(a)\n",
    "\treturn binarizer.transform(a)\n",
    "\n",
    "# Compute Maximum Likelihood Estimation of lambda\n",
    "def getLambdaML(data):\n",
    "\ta = np.array(data)\n",
    "\tunique, counts = np.unique(a, return_counts=True)\n",
    "\tlabels = dict(zip(unique, counts))\n",
    "\t# ML Estimate of lambda = N1/N\n",
    "\treturn labels[1]/(labels[0]+labels[1])\n",
    "\n",
    "def getNbClassifier(xtrain, ytrain):\n",
    "\t# lambdaMl = getLambdaML(ytrain)\n",
    "\t# Separate xtrain by class/label\n",
    "\tspam = []\n",
    "\tnonspam = []\n",
    "\tfor i in range(len(xtrain)):\n",
    "\t\tvector = xtrain[i]\n",
    "\t\tif ytrain[i] == 0:\n",
    "\t\t\tnonspam.append(vector)\n",
    "\t\telse:\n",
    "\t\t\tspam.append(vector)\n",
    "\tspam = np.array(spam).astype(int)\n",
    "\tnonspam = np.array(nonspam).astype(int)\n",
    "\t# calculate Xcj matrix\n",
    "\tnumFeatures = spam.shape[1]\n",
    "\tprint('Feauture Number: ', numFeatures)\n",
    "\tx = np.zeros((2, numFeatures)).astype(int)\n",
    "\tx[0] = np.sum(spam, axis=0)\n",
    "\tx[1] = np.sum(nonspam, axis=0)\n",
    "\tprint(x[0])\n",
    "\tprint(x[1])\n",
    "\treturn x\n",
    "\n",
    "def getPredictions(classifier, xtest):\n",
    "\treturn"
   ]
  },
  {
   "cell_type": "code",
   "execution_count": 23,
   "metadata": {},
   "outputs": [],
   "source": [
    "# Load data from spamData.mat\n",
    "xtrain, ytrain, xtest, ytest = dl.loadData()\n",
    "xtrain = binarization(xtrain)\n",
    "xtest = binarization(xtest)"
   ]
  },
  {
   "cell_type": "code",
   "execution_count": 32,
   "metadata": {},
   "outputs": [
    {
     "name": "stdout",
     "output_type": "stream",
     "text": [
      "[[0. 0. 0. ... 1. 1. 1.]\n",
      " [0. 0. 0. ... 1. 1. 1.]\n",
      " [0. 1. 1. ... 1. 1. 1.]\n",
      " ...\n",
      " [0. 0. 0. ... 1. 1. 1.]\n",
      " [1. 0. 1. ... 1. 1. 1.]\n",
      " [0. 0. 0. ... 1. 1. 1.]]\n",
      "Feauture Number:  57\n",
      "[ 431  433  760   25  783  457  523  444  394  582  391  785  357  151\n",
      "  202  692  489  476 1102  274 1006   57  416  461   38   18    7   19\n",
      "    8    9    3    2   48    7   37   81   72   23   51  144    1   12\n",
      "   58   28  321   54   12   11  191  801   88 1033  761  358 1240 1240\n",
      " 1240]\n",
      "[ 260  176  497    6  394  218   29  140  135  319   96  776  203   82\n",
      "   33  172  168  227 1037   29  617    9   52   35  672  508  499  274\n",
      "  227  280  176  127  229  128  267  309  471   34  210  155   94  204\n",
      "  182  166  526  287   26  122  337 1000  249  479  184  146 1825 1825\n",
      " 1825]\n",
      "0.40456769983686786\n"
     ]
    }
   ],
   "source": [
    "print(xtrain)\n",
    "# Get classifier\n",
    "naiveBayesClassifier = getNbClassifier(xtrain, ytrain)\n",
    "print(getLambdaML(ytrain))"
   ]
  },
  {
   "cell_type": "code",
   "execution_count": 34,
   "metadata": {},
   "outputs": [],
   "source": [
    "# test model\n",
    "# predictions = getPredictions(summaries, xtest)\n",
    "# accuracy = getAccuracy(ytest, predictions)\n",
    "# print('Accuracy: {0}%').format(accuracy)\n"
   ]
  },
  {
   "cell_type": "code",
   "execution_count": 33,
   "metadata": {},
   "outputs": [],
   "source": [
    "# Create an array of alpha values, from 0 to 100 with step size 0.5\n",
    "alpha = np.arange(0, 100.5, 0.5)"
   ]
  }
 ],
 "metadata": {
  "anaconda-cloud": {},
  "kernelspec": {
   "display_name": "Python 3",
   "language": "python",
   "name": "python3"
  },
  "language_info": {
   "codemirror_mode": {
    "name": "ipython",
    "version": 3
   },
   "file_extension": ".py",
   "mimetype": "text/x-python",
   "name": "python",
   "nbconvert_exporter": "python",
   "pygments_lexer": "ipython3",
   "version": "3.7.3"
  }
 },
 "nbformat": 4,
 "nbformat_minor": 1
}

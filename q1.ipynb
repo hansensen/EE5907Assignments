{
 "cells": [
  {
   "cell_type": "code",
   "execution_count": 71,
   "metadata": {},
   "outputs": [],
   "source": [
    "import scipy.io as sio\n",
    "import numpy as np\n",
    "from sklearn import preprocessing\n",
    "import DataLoader as dl\n",
    "\n",
    "# Binarization preprocessing\n",
    "def binarization(a):\n",
    "\tbinarizer = preprocessing.Binarizer().fit(a)\n",
    "\treturn binarizer.transform(a)\n",
    "\n",
    "# Compute Maximum Likelihood Estimation of lambda\n",
    "def getLambdaML(data):\n",
    "\ta = np.array(data)\n",
    "\tunique, counts = np.unique(a, return_counts=True)\n",
    "\tlabels = dict(zip(unique, counts))\n",
    "\t# ML Estimate of lambda = N1/N\n",
    "\tlambdaMl = labels[1]/(labels[0]+labels[1])\n",
    "\treturn lambdaMl, labels[0], labels[1]+labels[0]\n",
    "\n",
    "def getNbClassifier(xtrain, ytrain):\n",
    "\t# lambdaMl = getLambdaML(ytrain)\n",
    "\t# Separate xtrain by class/label\n",
    "\tspam = []\n",
    "\tnonspam = []\n",
    "\tfor i in range(len(xtrain)):\n",
    "\t\tvector = xtrain[i]\n",
    "\t\tif ytrain[i] == 0:\n",
    "\t\t\tnonspam.append(vector)\n",
    "\t\telse:\n",
    "\t\t\tspam.append(vector)\n",
    "\tspam = np.array(spam).astype(int)\n",
    "\tnonspam = np.array(nonspam).astype(int)\n",
    "\t# calculate Xcj matrix\n",
    "\tnumFeatures = spam.shape[1]\n",
    "\tprint('Feauture Number: ', numFeatures)\n",
    "\tx = np.zeros((2, numFeatures)).astype(int)\n",
    "\tx[1] = np.sum(spam, axis=0)\n",
    "\tx[0] = np.sum(nonspam, axis=0)\n",
    "\tprint(x[0])\n",
    "\tprint(x[1])\n",
    "\treturn x\n",
    "\n",
    "def getPredictions(classifier, xtest):\n",
    "\treturn"
   ]
  },
  {
   "cell_type": "code",
   "execution_count": 72,
   "metadata": {
    "scrolled": false
   },
   "outputs": [
    {
     "name": "stdout",
     "output_type": "stream",
     "text": [
      "[[1 0]\n",
      " [1 1]\n",
      " [0 1]\n",
      " [0 0]]\n"
     ]
    }
   ],
   "source": [
    "# Load data from spamData.mat\n",
    "xtrain, ytrain, xtest, ytest = dl.loadData('matlab.mat')\n",
    "xtrain = binarization(xtrain)\n",
    "xtest = binarization(xtest)\n",
    "print(xtrain)"
   ]
  },
  {
   "cell_type": "code",
   "execution_count": 73,
   "metadata": {
    "scrolled": false
   },
   "outputs": [
    {
     "name": "stdout",
     "output_type": "stream",
     "text": [
      "Feauture Number:  2\n",
      "[0 1]\n",
      "[2 1]\n"
     ]
    }
   ],
   "source": [
    "# Get classifier\n",
    "naiveBayesClassifier = getNbClassifier(xtrain, ytrain)"
   ]
  },
  {
   "cell_type": "code",
   "execution_count": 75,
   "metadata": {
    "scrolled": true
   },
   "outputs": [
    {
     "name": "stdout",
     "output_type": "stream",
     "text": [
      "(0.5, 2, 4)\n"
     ]
    }
   ],
   "source": [
    "# Get Maximum Likelihood Estimation of lambda\n",
    "lambdaML, N1, N = getLambdaML(ytrain)\n",
    "print(getLambdaML(ytrain))"
   ]
  },
  {
   "cell_type": "code",
   "execution_count": 76,
   "metadata": {},
   "outputs": [
    {
     "name": "stdout",
     "output_type": "stream",
     "text": [
      "[0.  0.5 1. ]\n"
     ]
    }
   ],
   "source": [
    "# Create an array of alpha values, from 0 to 100 with step size 0.5\n",
    "alphaStart = 0\n",
    "alphaEnd = 1\n",
    "alphaStepSize = 0.5\n",
    "alphaArr = np.arange(alphaStart, alphaEnd + alphaStepSize, alphaStepSize)\n",
    "print(alphaArr)"
   ]
  },
  {
   "cell_type": "code",
   "execution_count": 77,
   "metadata": {},
   "outputs": [
    {
     "name": "stdout",
     "output_type": "stream",
     "text": [
      "3\n"
     ]
    }
   ],
   "source": [
    "# Initialise an array of error rate\n",
    "errRate = np.zeros(alphaArr.size)\n",
    "print(alphaArr.size)"
   ]
  },
  {
   "cell_type": "code",
   "execution_count": null,
   "metadata": {},
   "outputs": [],
   "source": [
    "def calcPosteriorProdictiveDist(alpha, lambdaMl, featureVector):\n",
    "\t# Initialise\n",
    "\tlogP_yTilde_1 = math.log(lambdaMl)\n",
    "\tlogP_yTilde_0 = math.log(1 - lambdaMl)\n",
    "\n",
    "\t# Calculate  logP(yTilde = 1 | xTilde, D)\n",
    "\tfor i in range(featureVector):\n",
    "\t\tif feature:\n",
    "\telse:\n",
    "\n",
    "    # Calculate  logP(yTilde = 0 | xTilde, D)\n",
    "    "
   ]
  },
  {
   "cell_type": "code",
   "execution_count": 49,
   "metadata": {
    "scrolled": true
   },
   "outputs": [
    {
     "name": "stdout",
     "output_type": "stream",
     "text": [
      "alpha 0.0\n",
      "featureVector [1 0]\n",
      "featureVector [1 1]\n",
      "featureVector [0 0]\n",
      "alpha 0.5\n",
      "featureVector [1 0]\n",
      "featureVector [1 1]\n",
      "featureVector [0 0]\n",
      "alpha 1.0\n",
      "featureVector [1 0]\n",
      "featureVector [1 1]\n",
      "featureVector [0 0]\n"
     ]
    }
   ],
   "source": [
    "for alpha in np.nditer(alphaArr):\n",
    "\tprint('alpha', alpha)\n",
    "    \n",
    "\tfor featureVector in xtest:\n",
    "\t\tprint('featureVector', featureVector)\n",
    "\t\tprint(calcPosteriorProdictiveDist(alpha, naiveBayesClassifier, lambdaMl, featureVector))\n"
   ]
  },
  {
   "cell_type": "code",
   "execution_count": 44,
   "metadata": {
    "scrolled": true
   },
   "outputs": [
    {
     "data": {
      "text/plain": [
       "array([[0, 1],\n",
       "       [2, 1]])"
      ]
     },
     "execution_count": 44,
     "metadata": {},
     "output_type": "execute_result"
    }
   ],
   "source": [
    "naiveBayesClassifier"
   ]
  },
  {
   "cell_type": "code",
   "execution_count": 50,
   "metadata": {
    "scrolled": true
   },
   "outputs": [
    {
     "data": {
      "text/plain": [
       "array([[0, 0],\n",
       "       [2, 0]])"
      ]
     },
     "execution_count": 50,
     "metadata": {},
     "output_type": "execute_result"
    }
   ],
   "source": [
    "featureVector = xtest[0]\n",
    "np.multiply(naiveBayesClassifier, featureVector)"
   ]
  },
  {
   "cell_type": "code",
   "execution_count": 52,
   "metadata": {
    "scrolled": false
   },
   "outputs": [
    {
     "data": {
      "text/plain": [
       "array([[0, 1],\n",
       "       [2, 1]])"
      ]
     },
     "execution_count": 52,
     "metadata": {},
     "output_type": "execute_result"
    }
   ],
   "source": [
    "featureVector = xtest[1]\n",
    "np.multiply(naiveBayesClassifier, featureVector)"
   ]
  },
  {
   "cell_type": "code",
   "execution_count": 55,
   "metadata": {},
   "outputs": [
    {
     "data": {
      "text/plain": [
       "array([[0, 0],\n",
       "       [0, 0]])"
      ]
     },
     "execution_count": 55,
     "metadata": {},
     "output_type": "execute_result"
    }
   ],
   "source": [
    "featureVector = xtest[2]\n",
    "np.multiply(naiveBayesClassifier, featureVector)"
   ]
  },
  {
   "cell_type": "code",
   "execution_count": 56,
   "metadata": {
    "scrolled": true
   },
   "outputs": [
    {
     "data": {
      "text/plain": [
       "array([1, 1], dtype=uint8)"
      ]
     },
     "execution_count": 56,
     "metadata": {},
     "output_type": "execute_result"
    }
   ],
   "source": [
    "xtest[1]"
   ]
  },
  {
   "cell_type": "code",
   "execution_count": 62,
   "metadata": {},
   "outputs": [
    {
     "name": "stdout",
     "output_type": "stream",
     "text": [
      "ok\n"
     ]
    }
   ],
   "source": [
    "if 1:\n",
    "    print('ok')\n",
    "else:\n",
    "    print('zero')"
   ]
  },
  {
   "cell_type": "code",
   "execution_count": null,
   "metadata": {},
   "outputs": [],
   "source": []
  }
 ],
 "metadata": {
  "anaconda-cloud": {},
  "kernelspec": {
   "display_name": "Python 3",
   "language": "python",
   "name": "python3"
  },
  "language_info": {
   "codemirror_mode": {
    "name": "ipython",
    "version": 3
   },
   "file_extension": ".py",
   "mimetype": "text/x-python",
   "name": "python",
   "nbconvert_exporter": "python",
   "pygments_lexer": "ipython3",
   "version": "3.7.3"
  }
 },
 "nbformat": 4,
 "nbformat_minor": 1
}
